{
 "metadata": {
  "language_info": {
   "codemirror_mode": {
    "name": "ipython",
    "version": 3
   },
   "file_extension": ".py",
   "mimetype": "text/x-python",
   "name": "python",
   "nbconvert_exporter": "python",
   "pygments_lexer": "ipython3",
   "version": "3.9.1-final"
  },
  "orig_nbformat": 2,
  "kernelspec": {
   "name": "python3",
   "display_name": "Python 3.9.1 64-bit",
   "metadata": {
    "interpreter": {
     "hash": "3d5751fe2988eb1e492bba041d790d98e8f950f96258860244dfffaefd7c90da"
    }
   }
  }
 },
 "nbformat": 4,
 "nbformat_minor": 2,
 "cells": [
  {
   "cell_type": "code",
   "execution_count": 190,
   "metadata": {},
   "outputs": [
    {
     "output_type": "execute_result",
     "data": {
      "text/plain": [
       "     Order        Station Trains         Origins Arrival times Track  \\\n",
       "0        0  Union Station  E4201          Mimico      04:46:00   UPE   \n",
       "1        1  Union Station  E4203          Mimico      05:01:00   UPE   \n",
       "2        2  Union Station  E4001          Mimico      05:14:00   UPE   \n",
       "3        3  Union Station  E4003          Mimico      05:30:00   UPE   \n",
       "4        4  Union Station   4002      UP Airport      05:52:00   UPE   \n",
       "..     ...            ...    ...             ...           ...   ...   \n",
       "381    381  Union Station   1224       Aldershot      17:35:00    14   \n",
       "382    382  Union Station   6232          Aurora      21:33:00    14   \n",
       "383    383  Union Station  E7738  Mount Pleasant      22:32:00    14   \n",
       "384    384  Union Station   7537       Mount Joy      23:27:00    14   \n",
       "385    385  Union Station   7539       Mount Joy      00:27:00    14   \n",
       "\n",
       "    Departure times  Destinations Corresponding trains  \n",
       "0          04:55:00    UP Airport                 4201  \n",
       "1          05:10:00    UP Airport                 4203  \n",
       "2          05:30:00    UP Airport                 4001  \n",
       "3          05:45:00    UP Airport                 4003  \n",
       "4          06:00:00    UP Airport                 4005  \n",
       "..              ...           ...                  ...  \n",
       "381        17:40:00        Oshawa                 9224  \n",
       "382        22:15:00     Mount Joy                 7436  \n",
       "383        23:15:00  Lincolnville                 7738  \n",
       "384        23:30:00        Mimico               E7537W  \n",
       "385        00:30:00        Mimico               E7539W  \n",
       "\n",
       "[386 rows x 9 columns]"
      ],
      "text/html": "<div>\n<style scoped>\n    .dataframe tbody tr th:only-of-type {\n        vertical-align: middle;\n    }\n\n    .dataframe tbody tr th {\n        vertical-align: top;\n    }\n\n    .dataframe thead th {\n        text-align: right;\n    }\n</style>\n<table border=\"1\" class=\"dataframe\">\n  <thead>\n    <tr style=\"text-align: right;\">\n      <th></th>\n      <th>Order</th>\n      <th>Station</th>\n      <th>Trains</th>\n      <th>Origins</th>\n      <th>Arrival times</th>\n      <th>Track</th>\n      <th>Departure times</th>\n      <th>Destinations</th>\n      <th>Corresponding trains</th>\n    </tr>\n  </thead>\n  <tbody>\n    <tr>\n      <th>0</th>\n      <td>0</td>\n      <td>Union Station</td>\n      <td>E4201</td>\n      <td>Mimico</td>\n      <td>04:46:00</td>\n      <td>UPE</td>\n      <td>04:55:00</td>\n      <td>UP Airport</td>\n      <td>4201</td>\n    </tr>\n    <tr>\n      <th>1</th>\n      <td>1</td>\n      <td>Union Station</td>\n      <td>E4203</td>\n      <td>Mimico</td>\n      <td>05:01:00</td>\n      <td>UPE</td>\n      <td>05:10:00</td>\n      <td>UP Airport</td>\n      <td>4203</td>\n    </tr>\n    <tr>\n      <th>2</th>\n      <td>2</td>\n      <td>Union Station</td>\n      <td>E4001</td>\n      <td>Mimico</td>\n      <td>05:14:00</td>\n      <td>UPE</td>\n      <td>05:30:00</td>\n      <td>UP Airport</td>\n      <td>4001</td>\n    </tr>\n    <tr>\n      <th>3</th>\n      <td>3</td>\n      <td>Union Station</td>\n      <td>E4003</td>\n      <td>Mimico</td>\n      <td>05:30:00</td>\n      <td>UPE</td>\n      <td>05:45:00</td>\n      <td>UP Airport</td>\n      <td>4003</td>\n    </tr>\n    <tr>\n      <th>4</th>\n      <td>4</td>\n      <td>Union Station</td>\n      <td>4002</td>\n      <td>UP Airport</td>\n      <td>05:52:00</td>\n      <td>UPE</td>\n      <td>06:00:00</td>\n      <td>UP Airport</td>\n      <td>4005</td>\n    </tr>\n    <tr>\n      <th>...</th>\n      <td>...</td>\n      <td>...</td>\n      <td>...</td>\n      <td>...</td>\n      <td>...</td>\n      <td>...</td>\n      <td>...</td>\n      <td>...</td>\n      <td>...</td>\n    </tr>\n    <tr>\n      <th>381</th>\n      <td>381</td>\n      <td>Union Station</td>\n      <td>1224</td>\n      <td>Aldershot</td>\n      <td>17:35:00</td>\n      <td>14</td>\n      <td>17:40:00</td>\n      <td>Oshawa</td>\n      <td>9224</td>\n    </tr>\n    <tr>\n      <th>382</th>\n      <td>382</td>\n      <td>Union Station</td>\n      <td>6232</td>\n      <td>Aurora</td>\n      <td>21:33:00</td>\n      <td>14</td>\n      <td>22:15:00</td>\n      <td>Mount Joy</td>\n      <td>7436</td>\n    </tr>\n    <tr>\n      <th>383</th>\n      <td>383</td>\n      <td>Union Station</td>\n      <td>E7738</td>\n      <td>Mount Pleasant</td>\n      <td>22:32:00</td>\n      <td>14</td>\n      <td>23:15:00</td>\n      <td>Lincolnville</td>\n      <td>7738</td>\n    </tr>\n    <tr>\n      <th>384</th>\n      <td>384</td>\n      <td>Union Station</td>\n      <td>7537</td>\n      <td>Mount Joy</td>\n      <td>23:27:00</td>\n      <td>14</td>\n      <td>23:30:00</td>\n      <td>Mimico</td>\n      <td>E7537W</td>\n    </tr>\n    <tr>\n      <th>385</th>\n      <td>385</td>\n      <td>Union Station</td>\n      <td>7539</td>\n      <td>Mount Joy</td>\n      <td>00:27:00</td>\n      <td>14</td>\n      <td>00:30:00</td>\n      <td>Mimico</td>\n      <td>E7539W</td>\n    </tr>\n  </tbody>\n</table>\n<p>386 rows × 9 columns</p>\n</div>"
     },
     "metadata": {},
     "execution_count": 190
    }
   ],
   "source": [
    "import pandas as pd\n",
    "import numpy as np\n",
    "import matplotlib\n",
    "\n",
    "\n",
    "address1 = r'C:\\Users\\lucme\\Desktop\\File Transfer\\Desktop\\Folders - Desktop\\Track and Timetable Data from Treno for RER\\Track Occupation Data\\Union.csv'\n",
    "occupation_table = pd.read_csv(address1, header=0, sep = ';')\n",
    "occupation_table.drop(occupation_table.columns[len(occupation_table.columns)-1], axis=1, inplace=True)\n",
    "\n",
    "occupation_table.insert(column = 'Order', loc = 0, value = occupation_table.index)\n",
    "\n",
    "occupation_table"
   ]
  },
  {
   "cell_type": "code",
   "execution_count": 191,
   "metadata": {},
   "outputs": [],
   "source": [
    "address2 = r'C:\\Users\\lucme\\Desktop\\File Transfer\\Desktop\\Folders - Desktop\\Track and Timetable Data from Treno for RER\\Track Occupation Data\\StationsLineList.csv'\n",
    "stationslist = pd.read_csv(address2, header=0)\n",
    "stationslist_origins = stationslist.copy()\n",
    "stationslist_origins.columns = ['Line','Origins']\n",
    "\n",
    "stationslist_destinations = stationslist.copy()\n",
    "stationslist_destinations.columns = ['Line','Destinations']"
   ]
  },
  {
   "cell_type": "code",
   "execution_count": 192,
   "metadata": {},
   "outputs": [
    {
     "output_type": "execute_result",
     "data": {
      "text/plain": [
       "          Line Destinations\n",
       "34  UP Express   UP Airport"
      ],
      "text/html": "<div>\n<style scoped>\n    .dataframe tbody tr th:only-of-type {\n        vertical-align: middle;\n    }\n\n    .dataframe tbody tr th {\n        vertical-align: top;\n    }\n\n    .dataframe thead th {\n        text-align: right;\n    }\n</style>\n<table border=\"1\" class=\"dataframe\">\n  <thead>\n    <tr style=\"text-align: right;\">\n      <th></th>\n      <th>Line</th>\n      <th>Destinations</th>\n    </tr>\n  </thead>\n  <tbody>\n    <tr>\n      <th>34</th>\n      <td>UP Express</td>\n      <td>UP Airport</td>\n    </tr>\n  </tbody>\n</table>\n</div>"
     },
     "metadata": {},
     "execution_count": 192
    }
   ],
   "source": [
    "stationslist_destinations[stationslist_destinations['Line'] == 'UP Express']"
   ]
  },
  {
   "cell_type": "code",
   "execution_count": 193,
   "metadata": {},
   "outputs": [],
   "source": [
    "address3 = r'C:\\Users\\lucme\\Desktop\\File Transfer\\Desktop\\Folders - Desktop\\Track and Timetable Data from Treno for RER\\Track Occupation Data\\USCR_Routes.csv'\n",
    "routeslist = pd.read_csv(address3, header=0, delimiter='\\t', encoding='utf16')\n",
    "\n",
    "lineslist = routeslist.Line.str.split(pat=\"/\",expand=True)\n",
    "\n",
    "routeslist=pd.concat([routeslist, lineslist], axis=1, sort=False)\n",
    "routeslist = routeslist.drop(['At_Node','Sequence','Line','Train Types'],axis=1).drop_duplicates(subset=['Route'])\n",
    "keepcols = routeslist.columns[:4].copy().tolist()+['Line']\n",
    "\n",
    "zero = routeslist.copy().drop([1,2],axis=1)\n",
    "one = routeslist.copy().drop([0,2],axis=1)\n",
    "two = routeslist.copy().drop([0,1],axis=1)\n",
    "\n",
    "zero.columns = one.columns = two.columns = keepcols\n",
    "routeslist = pd.concat([zero,one,two],axis=0)\n",
    "inbound_routes = routeslist[routeslist.Direction == 'Inbound']\n",
    "outbound_routes = routeslist[routeslist.Direction == 'Outbound']\n",
    "\n",
    "inbound_routes=inbound_routes.groupby(['Line','Target'])['Route'].apply(list).to_frame().reset_index()\n",
    "\n",
    "outbound_routes=outbound_routes.groupby(['Line','Source'])['Route'].apply(list).to_frame().reset_index()\n",
    "inbound_routes.columns = ['Inbound Line','Track','Inbound Routes']\n",
    "outbound_routes.columns = ['Outbound Line','Track','Outbound Routes']"
   ]
  },
  {
   "cell_type": "code",
   "execution_count": 194,
   "metadata": {},
   "outputs": [
    {
     "output_type": "execute_result",
     "data": {
      "text/plain": [
       "   Inbound Line Track                      Inbound Routes\n",
       "0        Barrie     1                     [BARKITCH_IN_1]\n",
       "1        Barrie    11    [BARKITCH_IN_10, BARKITCH_IN_11]\n",
       "2        Barrie    12                     [BARKITCH_IN_8]\n",
       "3        Barrie    14                     [BARKITCH_IN_9]\n",
       "4        Barrie     2                     [BARKITCH_IN_2]\n",
       "..          ...   ...                                 ...\n",
       "91          VIA    10                [LAKE_W_VIANYC_IN_3]\n",
       "92          VIA     3                      [RICHILL_IN_2]\n",
       "93          VIA     5                      [RICHILL_IN_3]\n",
       "94          VIA     8  [LAKE_W_VIANYC_IN_1, RICHILL_IN_4]\n",
       "95          VIA     9                [LAKE_W_VIANYC_IN_2]\n",
       "\n",
       "[96 rows x 3 columns]"
      ],
      "text/html": "<div>\n<style scoped>\n    .dataframe tbody tr th:only-of-type {\n        vertical-align: middle;\n    }\n\n    .dataframe tbody tr th {\n        vertical-align: top;\n    }\n\n    .dataframe thead th {\n        text-align: right;\n    }\n</style>\n<table border=\"1\" class=\"dataframe\">\n  <thead>\n    <tr style=\"text-align: right;\">\n      <th></th>\n      <th>Inbound Line</th>\n      <th>Track</th>\n      <th>Inbound Routes</th>\n    </tr>\n  </thead>\n  <tbody>\n    <tr>\n      <th>0</th>\n      <td>Barrie</td>\n      <td>1</td>\n      <td>[BARKITCH_IN_1]</td>\n    </tr>\n    <tr>\n      <th>1</th>\n      <td>Barrie</td>\n      <td>11</td>\n      <td>[BARKITCH_IN_10, BARKITCH_IN_11]</td>\n    </tr>\n    <tr>\n      <th>2</th>\n      <td>Barrie</td>\n      <td>12</td>\n      <td>[BARKITCH_IN_8]</td>\n    </tr>\n    <tr>\n      <th>3</th>\n      <td>Barrie</td>\n      <td>14</td>\n      <td>[BARKITCH_IN_9]</td>\n    </tr>\n    <tr>\n      <th>4</th>\n      <td>Barrie</td>\n      <td>2</td>\n      <td>[BARKITCH_IN_2]</td>\n    </tr>\n    <tr>\n      <th>...</th>\n      <td>...</td>\n      <td>...</td>\n      <td>...</td>\n    </tr>\n    <tr>\n      <th>91</th>\n      <td>VIA</td>\n      <td>10</td>\n      <td>[LAKE_W_VIANYC_IN_3]</td>\n    </tr>\n    <tr>\n      <th>92</th>\n      <td>VIA</td>\n      <td>3</td>\n      <td>[RICHILL_IN_2]</td>\n    </tr>\n    <tr>\n      <th>93</th>\n      <td>VIA</td>\n      <td>5</td>\n      <td>[RICHILL_IN_3]</td>\n    </tr>\n    <tr>\n      <th>94</th>\n      <td>VIA</td>\n      <td>8</td>\n      <td>[LAKE_W_VIANYC_IN_1, RICHILL_IN_4]</td>\n    </tr>\n    <tr>\n      <th>95</th>\n      <td>VIA</td>\n      <td>9</td>\n      <td>[LAKE_W_VIANYC_IN_2]</td>\n    </tr>\n  </tbody>\n</table>\n<p>96 rows × 3 columns</p>\n</div>"
     },
     "metadata": {},
     "execution_count": 194
    }
   ],
   "source": [
    "inbound_routes"
   ]
  },
  {
   "cell_type": "code",
   "execution_count": 195,
   "metadata": {},
   "outputs": [
    {
     "output_type": "execute_result",
     "data": {
      "text/plain": [
       "   Outbound Line Track         Outbound Routes\n",
       "64    UP Express     1  [UPE_OUT_3, UPE_OUT_4]\n",
       "65    UP Express   UPE  [UPE_OUT_1, UPE_OUT_2]"
      ],
      "text/html": "<div>\n<style scoped>\n    .dataframe tbody tr th:only-of-type {\n        vertical-align: middle;\n    }\n\n    .dataframe tbody tr th {\n        vertical-align: top;\n    }\n\n    .dataframe thead th {\n        text-align: right;\n    }\n</style>\n<table border=\"1\" class=\"dataframe\">\n  <thead>\n    <tr style=\"text-align: right;\">\n      <th></th>\n      <th>Outbound Line</th>\n      <th>Track</th>\n      <th>Outbound Routes</th>\n    </tr>\n  </thead>\n  <tbody>\n    <tr>\n      <th>64</th>\n      <td>UP Express</td>\n      <td>1</td>\n      <td>[UPE_OUT_3, UPE_OUT_4]</td>\n    </tr>\n    <tr>\n      <th>65</th>\n      <td>UP Express</td>\n      <td>UPE</td>\n      <td>[UPE_OUT_1, UPE_OUT_2]</td>\n    </tr>\n  </tbody>\n</table>\n</div>"
     },
     "metadata": {},
     "execution_count": 195
    }
   ],
   "source": [
    "outbound_routes[outbound_routes['Outbound Line'] == 'UP Express']"
   ]
  },
  {
   "cell_type": "code",
   "execution_count": 196,
   "metadata": {},
   "outputs": [
    {
     "output_type": "execute_result",
     "data": {
      "text/plain": [
       "     Order        Station Trains         Origins Arrival times Track  \\\n",
       "0        0  Union Station  E4201          Mimico      04:46:00   UPE   \n",
       "1        1  Union Station  E4203          Mimico      05:01:00   UPE   \n",
       "2        2  Union Station  E4001          Mimico      05:14:00   UPE   \n",
       "3        3  Union Station  E4003          Mimico      05:30:00   UPE   \n",
       "4        4  Union Station   4002      UP Airport      05:52:00   UPE   \n",
       "..     ...            ...    ...             ...           ...   ...   \n",
       "381    381  Union Station   1224       Aldershot      17:35:00    14   \n",
       "382    382  Union Station   6232          Aurora      21:33:00    14   \n",
       "383    383  Union Station  E7738  Mount Pleasant      22:32:00    14   \n",
       "384    384  Union Station   7537       Mount Joy      23:27:00    14   \n",
       "385    385  Union Station   7539       Mount Joy      00:27:00    14   \n",
       "\n",
       "    Departure times  Destinations Corresponding trains          Line_x  \\\n",
       "0          04:55:00    UP Airport                 4201  Lakeshore West   \n",
       "1          05:10:00    UP Airport                 4203  Lakeshore West   \n",
       "2          05:30:00    UP Airport                 4001  Lakeshore West   \n",
       "3          05:45:00    UP Airport                 4003  Lakeshore West   \n",
       "4          06:00:00    UP Airport                 4005      UP Express   \n",
       "..              ...           ...                  ...             ...   \n",
       "381        17:40:00        Oshawa                 9224  Lakeshore West   \n",
       "382        22:15:00     Mount Joy                 7436          Barrie   \n",
       "383        23:15:00  Lincolnville                 7738       Kitchener   \n",
       "384        23:30:00        Mimico               E7537W     Stouffville   \n",
       "385        00:30:00        Mimico               E7539W     Stouffville   \n",
       "\n",
       "             Line_y  \n",
       "0        UP Express  \n",
       "1        UP Express  \n",
       "2        UP Express  \n",
       "3        UP Express  \n",
       "4        UP Express  \n",
       "..              ...  \n",
       "381  Lakeshore East  \n",
       "382     Stouffville  \n",
       "383     Stouffville  \n",
       "384  Lakeshore West  \n",
       "385  Lakeshore West  \n",
       "\n",
       "[386 rows x 11 columns]"
      ],
      "text/html": "<div>\n<style scoped>\n    .dataframe tbody tr th:only-of-type {\n        vertical-align: middle;\n    }\n\n    .dataframe tbody tr th {\n        vertical-align: top;\n    }\n\n    .dataframe thead th {\n        text-align: right;\n    }\n</style>\n<table border=\"1\" class=\"dataframe\">\n  <thead>\n    <tr style=\"text-align: right;\">\n      <th></th>\n      <th>Order</th>\n      <th>Station</th>\n      <th>Trains</th>\n      <th>Origins</th>\n      <th>Arrival times</th>\n      <th>Track</th>\n      <th>Departure times</th>\n      <th>Destinations</th>\n      <th>Corresponding trains</th>\n      <th>Line_x</th>\n      <th>Line_y</th>\n    </tr>\n  </thead>\n  <tbody>\n    <tr>\n      <th>0</th>\n      <td>0</td>\n      <td>Union Station</td>\n      <td>E4201</td>\n      <td>Mimico</td>\n      <td>04:46:00</td>\n      <td>UPE</td>\n      <td>04:55:00</td>\n      <td>UP Airport</td>\n      <td>4201</td>\n      <td>Lakeshore West</td>\n      <td>UP Express</td>\n    </tr>\n    <tr>\n      <th>1</th>\n      <td>1</td>\n      <td>Union Station</td>\n      <td>E4203</td>\n      <td>Mimico</td>\n      <td>05:01:00</td>\n      <td>UPE</td>\n      <td>05:10:00</td>\n      <td>UP Airport</td>\n      <td>4203</td>\n      <td>Lakeshore West</td>\n      <td>UP Express</td>\n    </tr>\n    <tr>\n      <th>2</th>\n      <td>2</td>\n      <td>Union Station</td>\n      <td>E4001</td>\n      <td>Mimico</td>\n      <td>05:14:00</td>\n      <td>UPE</td>\n      <td>05:30:00</td>\n      <td>UP Airport</td>\n      <td>4001</td>\n      <td>Lakeshore West</td>\n      <td>UP Express</td>\n    </tr>\n    <tr>\n      <th>3</th>\n      <td>3</td>\n      <td>Union Station</td>\n      <td>E4003</td>\n      <td>Mimico</td>\n      <td>05:30:00</td>\n      <td>UPE</td>\n      <td>05:45:00</td>\n      <td>UP Airport</td>\n      <td>4003</td>\n      <td>Lakeshore West</td>\n      <td>UP Express</td>\n    </tr>\n    <tr>\n      <th>4</th>\n      <td>4</td>\n      <td>Union Station</td>\n      <td>4002</td>\n      <td>UP Airport</td>\n      <td>05:52:00</td>\n      <td>UPE</td>\n      <td>06:00:00</td>\n      <td>UP Airport</td>\n      <td>4005</td>\n      <td>UP Express</td>\n      <td>UP Express</td>\n    </tr>\n    <tr>\n      <th>...</th>\n      <td>...</td>\n      <td>...</td>\n      <td>...</td>\n      <td>...</td>\n      <td>...</td>\n      <td>...</td>\n      <td>...</td>\n      <td>...</td>\n      <td>...</td>\n      <td>...</td>\n      <td>...</td>\n    </tr>\n    <tr>\n      <th>381</th>\n      <td>381</td>\n      <td>Union Station</td>\n      <td>1224</td>\n      <td>Aldershot</td>\n      <td>17:35:00</td>\n      <td>14</td>\n      <td>17:40:00</td>\n      <td>Oshawa</td>\n      <td>9224</td>\n      <td>Lakeshore West</td>\n      <td>Lakeshore East</td>\n    </tr>\n    <tr>\n      <th>382</th>\n      <td>382</td>\n      <td>Union Station</td>\n      <td>6232</td>\n      <td>Aurora</td>\n      <td>21:33:00</td>\n      <td>14</td>\n      <td>22:15:00</td>\n      <td>Mount Joy</td>\n      <td>7436</td>\n      <td>Barrie</td>\n      <td>Stouffville</td>\n    </tr>\n    <tr>\n      <th>383</th>\n      <td>383</td>\n      <td>Union Station</td>\n      <td>E7738</td>\n      <td>Mount Pleasant</td>\n      <td>22:32:00</td>\n      <td>14</td>\n      <td>23:15:00</td>\n      <td>Lincolnville</td>\n      <td>7738</td>\n      <td>Kitchener</td>\n      <td>Stouffville</td>\n    </tr>\n    <tr>\n      <th>384</th>\n      <td>384</td>\n      <td>Union Station</td>\n      <td>7537</td>\n      <td>Mount Joy</td>\n      <td>23:27:00</td>\n      <td>14</td>\n      <td>23:30:00</td>\n      <td>Mimico</td>\n      <td>E7537W</td>\n      <td>Stouffville</td>\n      <td>Lakeshore West</td>\n    </tr>\n    <tr>\n      <th>385</th>\n      <td>385</td>\n      <td>Union Station</td>\n      <td>7539</td>\n      <td>Mount Joy</td>\n      <td>00:27:00</td>\n      <td>14</td>\n      <td>00:30:00</td>\n      <td>Mimico</td>\n      <td>E7539W</td>\n      <td>Stouffville</td>\n      <td>Lakeshore West</td>\n    </tr>\n  </tbody>\n</table>\n<p>386 rows × 11 columns</p>\n</div>"
     },
     "metadata": {},
     "execution_count": 196
    }
   ],
   "source": [
    "#inbound line\n",
    "occupation_table = pd.merge(occupation_table, stationslist_origins, how = 'left', on = 'Origins')\n",
    "#outbound line\n",
    "occupation_table = pd.merge(occupation_table, stationslist_destinations, how = 'left', on = 'Destinations')\n",
    "occupation_table\n"
   ]
  },
  {
   "cell_type": "code",
   "execution_count": 197,
   "metadata": {},
   "outputs": [
    {
     "output_type": "execute_result",
     "data": {
      "text/plain": [
       "     Order        Station Trains               Origins Arrival times Track  \\\n",
       "104    104  Union Station   7903          Lincolnville      07:08:00     2   \n",
       "208    208  Union Station   6804  Allandale Waterfront      08:19:00     5   \n",
       "228    228  Union Station   3902             Kitchener      07:43:00     6   \n",
       "230    230  Union Station   2718                Milton      08:27:00     6   \n",
       "240    240  Union Station   2716                Milton      08:15:00     7   \n",
       "241    241  Union Station   6904  Allandale Waterfront      08:33:00     7   \n",
       "290    290  Union Station   2712                Milton      07:45:00    12   \n",
       "291    291  Union Station   3606            Georgetown      08:18:00    12   \n",
       "298    298  Union Station   6216                Aurora      13:33:00    12   \n",
       "318    318  Union Station   1852              Hamilton      07:00:00    13   \n",
       "319    319  Union Station   1754          West Harbour      07:20:00    13   \n",
       "322    322  Union Station   1858              Hamilton      08:30:00    13   \n",
       "379    379  Union Station   3920             Kitchener      16:51:00    14   \n",
       "\n",
       "    Departure times Destinations Corresponding trains          Line_x Line_y  \n",
       "104        07:13:00  Don Yard Jn                E8122     Stouffville   None  \n",
       "208        08:24:00  Don Yard Jn               E6804D          Barrie   None  \n",
       "228        07:48:00  Don Yard Jn               E3902D       Kitchener   None  \n",
       "230        08:32:00  Don Yard Jn               E2718D          Milton   None  \n",
       "240        08:20:00  Don Yard Jn               E2716D          Milton   None  \n",
       "241        08:38:00  Don Yard Jn               E6904D          Barrie   None  \n",
       "290        07:50:00  Don Yard Jn               E2712D          Milton   None  \n",
       "291        08:25:00  Don Yard Jn               E3606D       Kitchener   None  \n",
       "298        13:35:00  Don Yard Jn               E6216D          Barrie   None  \n",
       "318        07:05:00  Don Yard Jn               E1852D  Lakeshore West   None  \n",
       "319        07:25:00  Don Yard Jn               E1754D  Lakeshore West   None  \n",
       "322        08:35:00  Don Yard Jn               E1858D  Lakeshore West   None  \n",
       "379        16:53:00  Don Yard Jn               E3920D       Kitchener   None  "
      ],
      "text/html": "<div>\n<style scoped>\n    .dataframe tbody tr th:only-of-type {\n        vertical-align: middle;\n    }\n\n    .dataframe tbody tr th {\n        vertical-align: top;\n    }\n\n    .dataframe thead th {\n        text-align: right;\n    }\n</style>\n<table border=\"1\" class=\"dataframe\">\n  <thead>\n    <tr style=\"text-align: right;\">\n      <th></th>\n      <th>Order</th>\n      <th>Station</th>\n      <th>Trains</th>\n      <th>Origins</th>\n      <th>Arrival times</th>\n      <th>Track</th>\n      <th>Departure times</th>\n      <th>Destinations</th>\n      <th>Corresponding trains</th>\n      <th>Line_x</th>\n      <th>Line_y</th>\n    </tr>\n  </thead>\n  <tbody>\n    <tr>\n      <th>104</th>\n      <td>104</td>\n      <td>Union Station</td>\n      <td>7903</td>\n      <td>Lincolnville</td>\n      <td>07:08:00</td>\n      <td>2</td>\n      <td>07:13:00</td>\n      <td>Don Yard Jn</td>\n      <td>E8122</td>\n      <td>Stouffville</td>\n      <td>None</td>\n    </tr>\n    <tr>\n      <th>208</th>\n      <td>208</td>\n      <td>Union Station</td>\n      <td>6804</td>\n      <td>Allandale Waterfront</td>\n      <td>08:19:00</td>\n      <td>5</td>\n      <td>08:24:00</td>\n      <td>Don Yard Jn</td>\n      <td>E6804D</td>\n      <td>Barrie</td>\n      <td>None</td>\n    </tr>\n    <tr>\n      <th>228</th>\n      <td>228</td>\n      <td>Union Station</td>\n      <td>3902</td>\n      <td>Kitchener</td>\n      <td>07:43:00</td>\n      <td>6</td>\n      <td>07:48:00</td>\n      <td>Don Yard Jn</td>\n      <td>E3902D</td>\n      <td>Kitchener</td>\n      <td>None</td>\n    </tr>\n    <tr>\n      <th>230</th>\n      <td>230</td>\n      <td>Union Station</td>\n      <td>2718</td>\n      <td>Milton</td>\n      <td>08:27:00</td>\n      <td>6</td>\n      <td>08:32:00</td>\n      <td>Don Yard Jn</td>\n      <td>E2718D</td>\n      <td>Milton</td>\n      <td>None</td>\n    </tr>\n    <tr>\n      <th>240</th>\n      <td>240</td>\n      <td>Union Station</td>\n      <td>2716</td>\n      <td>Milton</td>\n      <td>08:15:00</td>\n      <td>7</td>\n      <td>08:20:00</td>\n      <td>Don Yard Jn</td>\n      <td>E2716D</td>\n      <td>Milton</td>\n      <td>None</td>\n    </tr>\n    <tr>\n      <th>241</th>\n      <td>241</td>\n      <td>Union Station</td>\n      <td>6904</td>\n      <td>Allandale Waterfront</td>\n      <td>08:33:00</td>\n      <td>7</td>\n      <td>08:38:00</td>\n      <td>Don Yard Jn</td>\n      <td>E6904D</td>\n      <td>Barrie</td>\n      <td>None</td>\n    </tr>\n    <tr>\n      <th>290</th>\n      <td>290</td>\n      <td>Union Station</td>\n      <td>2712</td>\n      <td>Milton</td>\n      <td>07:45:00</td>\n      <td>12</td>\n      <td>07:50:00</td>\n      <td>Don Yard Jn</td>\n      <td>E2712D</td>\n      <td>Milton</td>\n      <td>None</td>\n    </tr>\n    <tr>\n      <th>291</th>\n      <td>291</td>\n      <td>Union Station</td>\n      <td>3606</td>\n      <td>Georgetown</td>\n      <td>08:18:00</td>\n      <td>12</td>\n      <td>08:25:00</td>\n      <td>Don Yard Jn</td>\n      <td>E3606D</td>\n      <td>Kitchener</td>\n      <td>None</td>\n    </tr>\n    <tr>\n      <th>298</th>\n      <td>298</td>\n      <td>Union Station</td>\n      <td>6216</td>\n      <td>Aurora</td>\n      <td>13:33:00</td>\n      <td>12</td>\n      <td>13:35:00</td>\n      <td>Don Yard Jn</td>\n      <td>E6216D</td>\n      <td>Barrie</td>\n      <td>None</td>\n    </tr>\n    <tr>\n      <th>318</th>\n      <td>318</td>\n      <td>Union Station</td>\n      <td>1852</td>\n      <td>Hamilton</td>\n      <td>07:00:00</td>\n      <td>13</td>\n      <td>07:05:00</td>\n      <td>Don Yard Jn</td>\n      <td>E1852D</td>\n      <td>Lakeshore West</td>\n      <td>None</td>\n    </tr>\n    <tr>\n      <th>319</th>\n      <td>319</td>\n      <td>Union Station</td>\n      <td>1754</td>\n      <td>West Harbour</td>\n      <td>07:20:00</td>\n      <td>13</td>\n      <td>07:25:00</td>\n      <td>Don Yard Jn</td>\n      <td>E1754D</td>\n      <td>Lakeshore West</td>\n      <td>None</td>\n    </tr>\n    <tr>\n      <th>322</th>\n      <td>322</td>\n      <td>Union Station</td>\n      <td>1858</td>\n      <td>Hamilton</td>\n      <td>08:30:00</td>\n      <td>13</td>\n      <td>08:35:00</td>\n      <td>Don Yard Jn</td>\n      <td>E1858D</td>\n      <td>Lakeshore West</td>\n      <td>None</td>\n    </tr>\n    <tr>\n      <th>379</th>\n      <td>379</td>\n      <td>Union Station</td>\n      <td>3920</td>\n      <td>Kitchener</td>\n      <td>16:51:00</td>\n      <td>14</td>\n      <td>16:53:00</td>\n      <td>Don Yard Jn</td>\n      <td>E3920D</td>\n      <td>Kitchener</td>\n      <td>None</td>\n    </tr>\n  </tbody>\n</table>\n</div>"
     },
     "metadata": {},
     "execution_count": 197
    }
   ],
   "source": [
    "occupation_table[occupation_table['Destinations'] == 'Don Yard Jn']"
   ]
  },
  {
   "cell_type": "code",
   "execution_count": 198,
   "metadata": {},
   "outputs": [
    {
     "output_type": "execute_result",
     "data": {
      "text/plain": [
       "     Order        Station Trains         Origins Arrival times Track  \\\n",
       "0        0  Union Station  E4201          Mimico      04:46:00   UPE   \n",
       "1        1  Union Station  E4203          Mimico      05:01:00   UPE   \n",
       "2        2  Union Station  E4001          Mimico      05:14:00   UPE   \n",
       "3        3  Union Station  E4003          Mimico      05:30:00   UPE   \n",
       "4        4  Union Station   4002      UP Airport      05:52:00   UPE   \n",
       "..     ...            ...    ...             ...           ...   ...   \n",
       "381    381  Union Station   1224       Aldershot      17:35:00    14   \n",
       "382    382  Union Station   6232          Aurora      21:33:00    14   \n",
       "383    383  Union Station  E7738  Mount Pleasant      22:32:00    14   \n",
       "384    384  Union Station   7537       Mount Joy      23:27:00    14   \n",
       "385    385  Union Station   7539       Mount Joy      00:27:00    14   \n",
       "\n",
       "    Departure times  Destinations Corresponding trains    Inbound Line  \\\n",
       "0          04:55:00    UP Airport                 4201  Lakeshore West   \n",
       "1          05:10:00    UP Airport                 4203  Lakeshore West   \n",
       "2          05:30:00    UP Airport                 4001  Lakeshore West   \n",
       "3          05:45:00    UP Airport                 4003  Lakeshore West   \n",
       "4          06:00:00    UP Airport                 4005      UP Express   \n",
       "..              ...           ...                  ...             ...   \n",
       "381        17:40:00        Oshawa                 9224  Lakeshore West   \n",
       "382        22:15:00     Mount Joy                 7436          Barrie   \n",
       "383        23:15:00  Lincolnville                 7738       Kitchener   \n",
       "384        23:30:00        Mimico               E7537W     Stouffville   \n",
       "385        00:30:00        Mimico               E7539W     Stouffville   \n",
       "\n",
       "      Outbound Line  \n",
       "0        UP Express  \n",
       "1        UP Express  \n",
       "2        UP Express  \n",
       "3        UP Express  \n",
       "4        UP Express  \n",
       "..              ...  \n",
       "381  Lakeshore East  \n",
       "382     Stouffville  \n",
       "383     Stouffville  \n",
       "384  Lakeshore West  \n",
       "385  Lakeshore West  \n",
       "\n",
       "[386 rows x 11 columns]"
      ],
      "text/html": "<div>\n<style scoped>\n    .dataframe tbody tr th:only-of-type {\n        vertical-align: middle;\n    }\n\n    .dataframe tbody tr th {\n        vertical-align: top;\n    }\n\n    .dataframe thead th {\n        text-align: right;\n    }\n</style>\n<table border=\"1\" class=\"dataframe\">\n  <thead>\n    <tr style=\"text-align: right;\">\n      <th></th>\n      <th>Order</th>\n      <th>Station</th>\n      <th>Trains</th>\n      <th>Origins</th>\n      <th>Arrival times</th>\n      <th>Track</th>\n      <th>Departure times</th>\n      <th>Destinations</th>\n      <th>Corresponding trains</th>\n      <th>Inbound Line</th>\n      <th>Outbound Line</th>\n    </tr>\n  </thead>\n  <tbody>\n    <tr>\n      <th>0</th>\n      <td>0</td>\n      <td>Union Station</td>\n      <td>E4201</td>\n      <td>Mimico</td>\n      <td>04:46:00</td>\n      <td>UPE</td>\n      <td>04:55:00</td>\n      <td>UP Airport</td>\n      <td>4201</td>\n      <td>Lakeshore West</td>\n      <td>UP Express</td>\n    </tr>\n    <tr>\n      <th>1</th>\n      <td>1</td>\n      <td>Union Station</td>\n      <td>E4203</td>\n      <td>Mimico</td>\n      <td>05:01:00</td>\n      <td>UPE</td>\n      <td>05:10:00</td>\n      <td>UP Airport</td>\n      <td>4203</td>\n      <td>Lakeshore West</td>\n      <td>UP Express</td>\n    </tr>\n    <tr>\n      <th>2</th>\n      <td>2</td>\n      <td>Union Station</td>\n      <td>E4001</td>\n      <td>Mimico</td>\n      <td>05:14:00</td>\n      <td>UPE</td>\n      <td>05:30:00</td>\n      <td>UP Airport</td>\n      <td>4001</td>\n      <td>Lakeshore West</td>\n      <td>UP Express</td>\n    </tr>\n    <tr>\n      <th>3</th>\n      <td>3</td>\n      <td>Union Station</td>\n      <td>E4003</td>\n      <td>Mimico</td>\n      <td>05:30:00</td>\n      <td>UPE</td>\n      <td>05:45:00</td>\n      <td>UP Airport</td>\n      <td>4003</td>\n      <td>Lakeshore West</td>\n      <td>UP Express</td>\n    </tr>\n    <tr>\n      <th>4</th>\n      <td>4</td>\n      <td>Union Station</td>\n      <td>4002</td>\n      <td>UP Airport</td>\n      <td>05:52:00</td>\n      <td>UPE</td>\n      <td>06:00:00</td>\n      <td>UP Airport</td>\n      <td>4005</td>\n      <td>UP Express</td>\n      <td>UP Express</td>\n    </tr>\n    <tr>\n      <th>...</th>\n      <td>...</td>\n      <td>...</td>\n      <td>...</td>\n      <td>...</td>\n      <td>...</td>\n      <td>...</td>\n      <td>...</td>\n      <td>...</td>\n      <td>...</td>\n      <td>...</td>\n      <td>...</td>\n    </tr>\n    <tr>\n      <th>381</th>\n      <td>381</td>\n      <td>Union Station</td>\n      <td>1224</td>\n      <td>Aldershot</td>\n      <td>17:35:00</td>\n      <td>14</td>\n      <td>17:40:00</td>\n      <td>Oshawa</td>\n      <td>9224</td>\n      <td>Lakeshore West</td>\n      <td>Lakeshore East</td>\n    </tr>\n    <tr>\n      <th>382</th>\n      <td>382</td>\n      <td>Union Station</td>\n      <td>6232</td>\n      <td>Aurora</td>\n      <td>21:33:00</td>\n      <td>14</td>\n      <td>22:15:00</td>\n      <td>Mount Joy</td>\n      <td>7436</td>\n      <td>Barrie</td>\n      <td>Stouffville</td>\n    </tr>\n    <tr>\n      <th>383</th>\n      <td>383</td>\n      <td>Union Station</td>\n      <td>E7738</td>\n      <td>Mount Pleasant</td>\n      <td>22:32:00</td>\n      <td>14</td>\n      <td>23:15:00</td>\n      <td>Lincolnville</td>\n      <td>7738</td>\n      <td>Kitchener</td>\n      <td>Stouffville</td>\n    </tr>\n    <tr>\n      <th>384</th>\n      <td>384</td>\n      <td>Union Station</td>\n      <td>7537</td>\n      <td>Mount Joy</td>\n      <td>23:27:00</td>\n      <td>14</td>\n      <td>23:30:00</td>\n      <td>Mimico</td>\n      <td>E7537W</td>\n      <td>Stouffville</td>\n      <td>Lakeshore West</td>\n    </tr>\n    <tr>\n      <th>385</th>\n      <td>385</td>\n      <td>Union Station</td>\n      <td>7539</td>\n      <td>Mount Joy</td>\n      <td>00:27:00</td>\n      <td>14</td>\n      <td>00:30:00</td>\n      <td>Mimico</td>\n      <td>E7539W</td>\n      <td>Stouffville</td>\n      <td>Lakeshore West</td>\n    </tr>\n  </tbody>\n</table>\n<p>386 rows × 11 columns</p>\n</div>"
     },
     "metadata": {},
     "execution_count": 198
    }
   ],
   "source": [
    "columns = occupation_table.columns.tolist()\n",
    "columns[1] = 'Station'\n",
    "columns[-2] = 'Inbound Line'\n",
    "columns[-1] = 'Outbound Line'\n",
    "occupation_table.columns = columns\n",
    "occupation_table"
   ]
  },
  {
   "cell_type": "code",
   "execution_count": 199,
   "metadata": {},
   "outputs": [
    {
     "output_type": "execute_result",
     "data": {
      "text/plain": [
       "     Order        Station Trains         Origins Arrival times Track  \\\n",
       "0        0  Union Station  E4201          Mimico      04:46:00   UPE   \n",
       "1        1  Union Station  E4203          Mimico      05:01:00   UPE   \n",
       "2        2  Union Station  E4001          Mimico      05:14:00   UPE   \n",
       "3        3  Union Station  E4003          Mimico      05:30:00   UPE   \n",
       "4        4  Union Station   4002      UP Airport      05:52:00   UPE   \n",
       "..     ...            ...    ...             ...           ...   ...   \n",
       "381    381  Union Station   1224       Aldershot      17:35:00    14   \n",
       "382    382  Union Station   6232          Aurora      21:33:00    14   \n",
       "383    383  Union Station  E7738  Mount Pleasant      22:32:00    14   \n",
       "384    384  Union Station   7537       Mount Joy      23:27:00    14   \n",
       "385    385  Union Station   7539       Mount Joy      00:27:00    14   \n",
       "\n",
       "    Departure times  Destinations Corresponding trains    Inbound Line  \\\n",
       "0          04:55:00    UP Airport                 4201  Lakeshore West   \n",
       "1          05:10:00    UP Airport                 4203  Lakeshore West   \n",
       "2          05:30:00    UP Airport                 4001  Lakeshore West   \n",
       "3          05:45:00    UP Airport                 4003  Lakeshore West   \n",
       "4          06:00:00    UP Airport                 4005      UP Express   \n",
       "..              ...           ...                  ...             ...   \n",
       "381        17:40:00        Oshawa                 9224  Lakeshore West   \n",
       "382        22:15:00     Mount Joy                 7436          Barrie   \n",
       "383        23:15:00  Lincolnville                 7738       Kitchener   \n",
       "384        23:30:00        Mimico               E7537W     Stouffville   \n",
       "385        00:30:00        Mimico               E7539W     Stouffville   \n",
       "\n",
       "      Outbound Line           Inbound Routes  \\\n",
       "0        UP Express            [LAKE_W_IN_1]   \n",
       "1        UP Express            [LAKE_W_IN_1]   \n",
       "2        UP Express            [LAKE_W_IN_1]   \n",
       "3        UP Express            [LAKE_W_IN_1]   \n",
       "4        UP Express      [UPEMILTKITCH_IN_1]   \n",
       "..              ...                      ...   \n",
       "381  Lakeshore East           [LAKE_W_IN_10]   \n",
       "382     Stouffville          [BARKITCH_IN_9]   \n",
       "383     Stouffville          [BARKITCH_IN_9]   \n",
       "384  Lakeshore West  [LAKE_E_STOUFDANF_IN_7]   \n",
       "385  Lakeshore West  [LAKE_E_STOUFDANF_IN_7]   \n",
       "\n",
       "                                       Outbound Routes  \n",
       "0                               [UPE_OUT_1, UPE_OUT_2]  \n",
       "1                               [UPE_OUT_1, UPE_OUT_2]  \n",
       "2                               [UPE_OUT_1, UPE_OUT_2]  \n",
       "3                               [UPE_OUT_1, UPE_OUT_2]  \n",
       "4                               [UPE_OUT_1, UPE_OUT_2]  \n",
       "..                                                 ...  \n",
       "381  [LAKE_E_EXPSTOUFREG_OUT_11, LAKE_E_EXPSTOUFREG...  \n",
       "382  [LAKE_E_STOUFDANF_OUT_10, LAKE_E_STOUFDANF_OUT...  \n",
       "383  [LAKE_E_STOUFDANF_OUT_10, LAKE_E_STOUFDANF_OUT...  \n",
       "384                                               None  \n",
       "385                                               None  \n",
       "\n",
       "[386 rows x 13 columns]"
      ],
      "text/html": "<div>\n<style scoped>\n    .dataframe tbody tr th:only-of-type {\n        vertical-align: middle;\n    }\n\n    .dataframe tbody tr th {\n        vertical-align: top;\n    }\n\n    .dataframe thead th {\n        text-align: right;\n    }\n</style>\n<table border=\"1\" class=\"dataframe\">\n  <thead>\n    <tr style=\"text-align: right;\">\n      <th></th>\n      <th>Order</th>\n      <th>Station</th>\n      <th>Trains</th>\n      <th>Origins</th>\n      <th>Arrival times</th>\n      <th>Track</th>\n      <th>Departure times</th>\n      <th>Destinations</th>\n      <th>Corresponding trains</th>\n      <th>Inbound Line</th>\n      <th>Outbound Line</th>\n      <th>Inbound Routes</th>\n      <th>Outbound Routes</th>\n    </tr>\n  </thead>\n  <tbody>\n    <tr>\n      <th>0</th>\n      <td>0</td>\n      <td>Union Station</td>\n      <td>E4201</td>\n      <td>Mimico</td>\n      <td>04:46:00</td>\n      <td>UPE</td>\n      <td>04:55:00</td>\n      <td>UP Airport</td>\n      <td>4201</td>\n      <td>Lakeshore West</td>\n      <td>UP Express</td>\n      <td>[LAKE_W_IN_1]</td>\n      <td>[UPE_OUT_1, UPE_OUT_2]</td>\n    </tr>\n    <tr>\n      <th>1</th>\n      <td>1</td>\n      <td>Union Station</td>\n      <td>E4203</td>\n      <td>Mimico</td>\n      <td>05:01:00</td>\n      <td>UPE</td>\n      <td>05:10:00</td>\n      <td>UP Airport</td>\n      <td>4203</td>\n      <td>Lakeshore West</td>\n      <td>UP Express</td>\n      <td>[LAKE_W_IN_1]</td>\n      <td>[UPE_OUT_1, UPE_OUT_2]</td>\n    </tr>\n    <tr>\n      <th>2</th>\n      <td>2</td>\n      <td>Union Station</td>\n      <td>E4001</td>\n      <td>Mimico</td>\n      <td>05:14:00</td>\n      <td>UPE</td>\n      <td>05:30:00</td>\n      <td>UP Airport</td>\n      <td>4001</td>\n      <td>Lakeshore West</td>\n      <td>UP Express</td>\n      <td>[LAKE_W_IN_1]</td>\n      <td>[UPE_OUT_1, UPE_OUT_2]</td>\n    </tr>\n    <tr>\n      <th>3</th>\n      <td>3</td>\n      <td>Union Station</td>\n      <td>E4003</td>\n      <td>Mimico</td>\n      <td>05:30:00</td>\n      <td>UPE</td>\n      <td>05:45:00</td>\n      <td>UP Airport</td>\n      <td>4003</td>\n      <td>Lakeshore West</td>\n      <td>UP Express</td>\n      <td>[LAKE_W_IN_1]</td>\n      <td>[UPE_OUT_1, UPE_OUT_2]</td>\n    </tr>\n    <tr>\n      <th>4</th>\n      <td>4</td>\n      <td>Union Station</td>\n      <td>4002</td>\n      <td>UP Airport</td>\n      <td>05:52:00</td>\n      <td>UPE</td>\n      <td>06:00:00</td>\n      <td>UP Airport</td>\n      <td>4005</td>\n      <td>UP Express</td>\n      <td>UP Express</td>\n      <td>[UPEMILTKITCH_IN_1]</td>\n      <td>[UPE_OUT_1, UPE_OUT_2]</td>\n    </tr>\n    <tr>\n      <th>...</th>\n      <td>...</td>\n      <td>...</td>\n      <td>...</td>\n      <td>...</td>\n      <td>...</td>\n      <td>...</td>\n      <td>...</td>\n      <td>...</td>\n      <td>...</td>\n      <td>...</td>\n      <td>...</td>\n      <td>...</td>\n      <td>...</td>\n    </tr>\n    <tr>\n      <th>381</th>\n      <td>381</td>\n      <td>Union Station</td>\n      <td>1224</td>\n      <td>Aldershot</td>\n      <td>17:35:00</td>\n      <td>14</td>\n      <td>17:40:00</td>\n      <td>Oshawa</td>\n      <td>9224</td>\n      <td>Lakeshore West</td>\n      <td>Lakeshore East</td>\n      <td>[LAKE_W_IN_10]</td>\n      <td>[LAKE_E_EXPSTOUFREG_OUT_11, LAKE_E_EXPSTOUFREG...</td>\n    </tr>\n    <tr>\n      <th>382</th>\n      <td>382</td>\n      <td>Union Station</td>\n      <td>6232</td>\n      <td>Aurora</td>\n      <td>21:33:00</td>\n      <td>14</td>\n      <td>22:15:00</td>\n      <td>Mount Joy</td>\n      <td>7436</td>\n      <td>Barrie</td>\n      <td>Stouffville</td>\n      <td>[BARKITCH_IN_9]</td>\n      <td>[LAKE_E_STOUFDANF_OUT_10, LAKE_E_STOUFDANF_OUT...</td>\n    </tr>\n    <tr>\n      <th>383</th>\n      <td>383</td>\n      <td>Union Station</td>\n      <td>E7738</td>\n      <td>Mount Pleasant</td>\n      <td>22:32:00</td>\n      <td>14</td>\n      <td>23:15:00</td>\n      <td>Lincolnville</td>\n      <td>7738</td>\n      <td>Kitchener</td>\n      <td>Stouffville</td>\n      <td>[BARKITCH_IN_9]</td>\n      <td>[LAKE_E_STOUFDANF_OUT_10, LAKE_E_STOUFDANF_OUT...</td>\n    </tr>\n    <tr>\n      <th>384</th>\n      <td>384</td>\n      <td>Union Station</td>\n      <td>7537</td>\n      <td>Mount Joy</td>\n      <td>23:27:00</td>\n      <td>14</td>\n      <td>23:30:00</td>\n      <td>Mimico</td>\n      <td>E7537W</td>\n      <td>Stouffville</td>\n      <td>Lakeshore West</td>\n      <td>[LAKE_E_STOUFDANF_IN_7]</td>\n      <td>None</td>\n    </tr>\n    <tr>\n      <th>385</th>\n      <td>385</td>\n      <td>Union Station</td>\n      <td>7539</td>\n      <td>Mount Joy</td>\n      <td>00:27:00</td>\n      <td>14</td>\n      <td>00:30:00</td>\n      <td>Mimico</td>\n      <td>E7539W</td>\n      <td>Stouffville</td>\n      <td>Lakeshore West</td>\n      <td>[LAKE_E_STOUFDANF_IN_7]</td>\n      <td>None</td>\n    </tr>\n  </tbody>\n</table>\n<p>386 rows × 13 columns</p>\n</div>"
     },
     "metadata": {},
     "execution_count": 199
    }
   ],
   "source": [
    "occupation_table = pd.merge( occupation_table,inbound_routes,how = 'left', on=['Inbound Line','Track'])\n",
    "occupation_table = pd.merge( occupation_table,outbound_routes,how = 'left', on=['Outbound Line','Track'])\n",
    "occupation_table.fillna('None')\n",
    "\n"
   ]
  },
  {
   "cell_type": "code",
   "execution_count": 200,
   "metadata": {},
   "outputs": [
    {
     "output_type": "execute_result",
     "data": {
      "text/plain": [
       "     Order        Station Trains         Origins Arrival times Track  \\\n",
       "0        0  Union Station  E4201          Mimico      04:46:00   UPE   \n",
       "1        1  Union Station  E4203          Mimico      05:01:00   UPE   \n",
       "2        2  Union Station  E4001          Mimico      05:14:00   UPE   \n",
       "3        3  Union Station  E4003          Mimico      05:30:00   UPE   \n",
       "4        4  Union Station   4002      UP Airport      05:52:00   UPE   \n",
       "..     ...            ...    ...             ...           ...   ...   \n",
       "381    381  Union Station   1224       Aldershot      17:35:00    14   \n",
       "382    382  Union Station   6232          Aurora      21:33:00    14   \n",
       "383    383  Union Station  E7738  Mount Pleasant      22:32:00    14   \n",
       "384    384  Union Station   7537       Mount Joy      23:27:00    14   \n",
       "385    385  Union Station   7539       Mount Joy      00:27:00    14   \n",
       "\n",
       "    Departure times  Destinations Corresponding trains    Inbound Line  \\\n",
       "0          04:55:00    UP Airport                 4201  Lakeshore West   \n",
       "1          05:10:00    UP Airport                 4203  Lakeshore West   \n",
       "2          05:30:00    UP Airport                 4001  Lakeshore West   \n",
       "3          05:45:00    UP Airport                 4003  Lakeshore West   \n",
       "4          06:00:00    UP Airport                 4005      UP Express   \n",
       "..              ...           ...                  ...             ...   \n",
       "381        17:40:00        Oshawa                 9224  Lakeshore West   \n",
       "382        22:15:00     Mount Joy                 7436          Barrie   \n",
       "383        23:15:00  Lincolnville                 7738       Kitchener   \n",
       "384        23:30:00        Mimico               E7537W     Stouffville   \n",
       "385        00:30:00        Mimico               E7539W     Stouffville   \n",
       "\n",
       "      Outbound Line           Inbound Routes  \\\n",
       "0        UP Express            [LAKE_W_IN_1]   \n",
       "1        UP Express            [LAKE_W_IN_1]   \n",
       "2        UP Express            [LAKE_W_IN_1]   \n",
       "3        UP Express            [LAKE_W_IN_1]   \n",
       "4        UP Express      [UPEMILTKITCH_IN_1]   \n",
       "..              ...                      ...   \n",
       "381  Lakeshore East           [LAKE_W_IN_10]   \n",
       "382     Stouffville          [BARKITCH_IN_9]   \n",
       "383     Stouffville          [BARKITCH_IN_9]   \n",
       "384  Lakeshore West  [LAKE_E_STOUFDANF_IN_7]   \n",
       "385  Lakeshore West  [LAKE_E_STOUFDANF_IN_7]   \n",
       "\n",
       "                                       Outbound Routes  \n",
       "0                               [UPE_OUT_1, UPE_OUT_2]  \n",
       "1                               [UPE_OUT_1, UPE_OUT_2]  \n",
       "2                               [UPE_OUT_1, UPE_OUT_2]  \n",
       "3                               [UPE_OUT_1, UPE_OUT_2]  \n",
       "4                               [UPE_OUT_1, UPE_OUT_2]  \n",
       "..                                                 ...  \n",
       "381  [LAKE_E_EXPSTOUFREG_OUT_11, LAKE_E_EXPSTOUFREG...  \n",
       "382  [LAKE_E_STOUFDANF_OUT_10, LAKE_E_STOUFDANF_OUT...  \n",
       "383  [LAKE_E_STOUFDANF_OUT_10, LAKE_E_STOUFDANF_OUT...  \n",
       "384                                                NaN  \n",
       "385                                                NaN  \n",
       "\n",
       "[386 rows x 13 columns]"
      ],
      "text/html": "<div>\n<style scoped>\n    .dataframe tbody tr th:only-of-type {\n        vertical-align: middle;\n    }\n\n    .dataframe tbody tr th {\n        vertical-align: top;\n    }\n\n    .dataframe thead th {\n        text-align: right;\n    }\n</style>\n<table border=\"1\" class=\"dataframe\">\n  <thead>\n    <tr style=\"text-align: right;\">\n      <th></th>\n      <th>Order</th>\n      <th>Station</th>\n      <th>Trains</th>\n      <th>Origins</th>\n      <th>Arrival times</th>\n      <th>Track</th>\n      <th>Departure times</th>\n      <th>Destinations</th>\n      <th>Corresponding trains</th>\n      <th>Inbound Line</th>\n      <th>Outbound Line</th>\n      <th>Inbound Routes</th>\n      <th>Outbound Routes</th>\n    </tr>\n  </thead>\n  <tbody>\n    <tr>\n      <th>0</th>\n      <td>0</td>\n      <td>Union Station</td>\n      <td>E4201</td>\n      <td>Mimico</td>\n      <td>04:46:00</td>\n      <td>UPE</td>\n      <td>04:55:00</td>\n      <td>UP Airport</td>\n      <td>4201</td>\n      <td>Lakeshore West</td>\n      <td>UP Express</td>\n      <td>[LAKE_W_IN_1]</td>\n      <td>[UPE_OUT_1, UPE_OUT_2]</td>\n    </tr>\n    <tr>\n      <th>1</th>\n      <td>1</td>\n      <td>Union Station</td>\n      <td>E4203</td>\n      <td>Mimico</td>\n      <td>05:01:00</td>\n      <td>UPE</td>\n      <td>05:10:00</td>\n      <td>UP Airport</td>\n      <td>4203</td>\n      <td>Lakeshore West</td>\n      <td>UP Express</td>\n      <td>[LAKE_W_IN_1]</td>\n      <td>[UPE_OUT_1, UPE_OUT_2]</td>\n    </tr>\n    <tr>\n      <th>2</th>\n      <td>2</td>\n      <td>Union Station</td>\n      <td>E4001</td>\n      <td>Mimico</td>\n      <td>05:14:00</td>\n      <td>UPE</td>\n      <td>05:30:00</td>\n      <td>UP Airport</td>\n      <td>4001</td>\n      <td>Lakeshore West</td>\n      <td>UP Express</td>\n      <td>[LAKE_W_IN_1]</td>\n      <td>[UPE_OUT_1, UPE_OUT_2]</td>\n    </tr>\n    <tr>\n      <th>3</th>\n      <td>3</td>\n      <td>Union Station</td>\n      <td>E4003</td>\n      <td>Mimico</td>\n      <td>05:30:00</td>\n      <td>UPE</td>\n      <td>05:45:00</td>\n      <td>UP Airport</td>\n      <td>4003</td>\n      <td>Lakeshore West</td>\n      <td>UP Express</td>\n      <td>[LAKE_W_IN_1]</td>\n      <td>[UPE_OUT_1, UPE_OUT_2]</td>\n    </tr>\n    <tr>\n      <th>4</th>\n      <td>4</td>\n      <td>Union Station</td>\n      <td>4002</td>\n      <td>UP Airport</td>\n      <td>05:52:00</td>\n      <td>UPE</td>\n      <td>06:00:00</td>\n      <td>UP Airport</td>\n      <td>4005</td>\n      <td>UP Express</td>\n      <td>UP Express</td>\n      <td>[UPEMILTKITCH_IN_1]</td>\n      <td>[UPE_OUT_1, UPE_OUT_2]</td>\n    </tr>\n    <tr>\n      <th>...</th>\n      <td>...</td>\n      <td>...</td>\n      <td>...</td>\n      <td>...</td>\n      <td>...</td>\n      <td>...</td>\n      <td>...</td>\n      <td>...</td>\n      <td>...</td>\n      <td>...</td>\n      <td>...</td>\n      <td>...</td>\n      <td>...</td>\n    </tr>\n    <tr>\n      <th>381</th>\n      <td>381</td>\n      <td>Union Station</td>\n      <td>1224</td>\n      <td>Aldershot</td>\n      <td>17:35:00</td>\n      <td>14</td>\n      <td>17:40:00</td>\n      <td>Oshawa</td>\n      <td>9224</td>\n      <td>Lakeshore West</td>\n      <td>Lakeshore East</td>\n      <td>[LAKE_W_IN_10]</td>\n      <td>[LAKE_E_EXPSTOUFREG_OUT_11, LAKE_E_EXPSTOUFREG...</td>\n    </tr>\n    <tr>\n      <th>382</th>\n      <td>382</td>\n      <td>Union Station</td>\n      <td>6232</td>\n      <td>Aurora</td>\n      <td>21:33:00</td>\n      <td>14</td>\n      <td>22:15:00</td>\n      <td>Mount Joy</td>\n      <td>7436</td>\n      <td>Barrie</td>\n      <td>Stouffville</td>\n      <td>[BARKITCH_IN_9]</td>\n      <td>[LAKE_E_STOUFDANF_OUT_10, LAKE_E_STOUFDANF_OUT...</td>\n    </tr>\n    <tr>\n      <th>383</th>\n      <td>383</td>\n      <td>Union Station</td>\n      <td>E7738</td>\n      <td>Mount Pleasant</td>\n      <td>22:32:00</td>\n      <td>14</td>\n      <td>23:15:00</td>\n      <td>Lincolnville</td>\n      <td>7738</td>\n      <td>Kitchener</td>\n      <td>Stouffville</td>\n      <td>[BARKITCH_IN_9]</td>\n      <td>[LAKE_E_STOUFDANF_OUT_10, LAKE_E_STOUFDANF_OUT...</td>\n    </tr>\n    <tr>\n      <th>384</th>\n      <td>384</td>\n      <td>Union Station</td>\n      <td>7537</td>\n      <td>Mount Joy</td>\n      <td>23:27:00</td>\n      <td>14</td>\n      <td>23:30:00</td>\n      <td>Mimico</td>\n      <td>E7537W</td>\n      <td>Stouffville</td>\n      <td>Lakeshore West</td>\n      <td>[LAKE_E_STOUFDANF_IN_7]</td>\n      <td>NaN</td>\n    </tr>\n    <tr>\n      <th>385</th>\n      <td>385</td>\n      <td>Union Station</td>\n      <td>7539</td>\n      <td>Mount Joy</td>\n      <td>00:27:00</td>\n      <td>14</td>\n      <td>00:30:00</td>\n      <td>Mimico</td>\n      <td>E7539W</td>\n      <td>Stouffville</td>\n      <td>Lakeshore West</td>\n      <td>[LAKE_E_STOUFDANF_IN_7]</td>\n      <td>NaN</td>\n    </tr>\n  </tbody>\n</table>\n<p>386 rows × 13 columns</p>\n</div>"
     },
     "metadata": {},
     "execution_count": 200
    }
   ],
   "source": [
    "occupation_table"
   ]
  },
  {
   "cell_type": "code",
   "execution_count": 201,
   "metadata": {},
   "outputs": [],
   "source": [
    "inRoutes = occupation_table['Inbound Routes'].apply(pd.Series)\n",
    "outRoutes = occupation_table['Outbound Routes'].apply(pd.Series)\n"
   ]
  },
  {
   "cell_type": "code",
   "execution_count": 202,
   "metadata": {},
   "outputs": [
    {
     "output_type": "execute_result",
     "data": {
      "text/plain": [
       "                         0    1    2\n",
       "0              LAKE_W_IN_1  NaN  NaN\n",
       "1              LAKE_W_IN_1  NaN  NaN\n",
       "2              LAKE_W_IN_1  NaN  NaN\n",
       "3              LAKE_W_IN_1  NaN  NaN\n",
       "4        UPEMILTKITCH_IN_1  NaN  NaN\n",
       "..                     ...  ...  ...\n",
       "381           LAKE_W_IN_10  NaN  NaN\n",
       "382          BARKITCH_IN_9  NaN  NaN\n",
       "383          BARKITCH_IN_9  NaN  NaN\n",
       "384  LAKE_E_STOUFDANF_IN_7  NaN  NaN\n",
       "385  LAKE_E_STOUFDANF_IN_7  NaN  NaN\n",
       "\n",
       "[386 rows x 3 columns]"
      ],
      "text/html": "<div>\n<style scoped>\n    .dataframe tbody tr th:only-of-type {\n        vertical-align: middle;\n    }\n\n    .dataframe tbody tr th {\n        vertical-align: top;\n    }\n\n    .dataframe thead th {\n        text-align: right;\n    }\n</style>\n<table border=\"1\" class=\"dataframe\">\n  <thead>\n    <tr style=\"text-align: right;\">\n      <th></th>\n      <th>0</th>\n      <th>1</th>\n      <th>2</th>\n    </tr>\n  </thead>\n  <tbody>\n    <tr>\n      <th>0</th>\n      <td>LAKE_W_IN_1</td>\n      <td>NaN</td>\n      <td>NaN</td>\n    </tr>\n    <tr>\n      <th>1</th>\n      <td>LAKE_W_IN_1</td>\n      <td>NaN</td>\n      <td>NaN</td>\n    </tr>\n    <tr>\n      <th>2</th>\n      <td>LAKE_W_IN_1</td>\n      <td>NaN</td>\n      <td>NaN</td>\n    </tr>\n    <tr>\n      <th>3</th>\n      <td>LAKE_W_IN_1</td>\n      <td>NaN</td>\n      <td>NaN</td>\n    </tr>\n    <tr>\n      <th>4</th>\n      <td>UPEMILTKITCH_IN_1</td>\n      <td>NaN</td>\n      <td>NaN</td>\n    </tr>\n    <tr>\n      <th>...</th>\n      <td>...</td>\n      <td>...</td>\n      <td>...</td>\n    </tr>\n    <tr>\n      <th>381</th>\n      <td>LAKE_W_IN_10</td>\n      <td>NaN</td>\n      <td>NaN</td>\n    </tr>\n    <tr>\n      <th>382</th>\n      <td>BARKITCH_IN_9</td>\n      <td>NaN</td>\n      <td>NaN</td>\n    </tr>\n    <tr>\n      <th>383</th>\n      <td>BARKITCH_IN_9</td>\n      <td>NaN</td>\n      <td>NaN</td>\n    </tr>\n    <tr>\n      <th>384</th>\n      <td>LAKE_E_STOUFDANF_IN_7</td>\n      <td>NaN</td>\n      <td>NaN</td>\n    </tr>\n    <tr>\n      <th>385</th>\n      <td>LAKE_E_STOUFDANF_IN_7</td>\n      <td>NaN</td>\n      <td>NaN</td>\n    </tr>\n  </tbody>\n</table>\n<p>386 rows × 3 columns</p>\n</div>"
     },
     "metadata": {},
     "execution_count": 202
    }
   ],
   "source": [
    "inRoutes"
   ]
  },
  {
   "cell_type": "code",
   "execution_count": 203,
   "metadata": {},
   "outputs": [
    {
     "output_type": "execute_result",
     "data": {
      "text/plain": [
       "     Order        Station Trains         Origins Arrival times Track  \\\n",
       "0        0  Union Station  E4201          Mimico      04:46:00   UPE   \n",
       "1        1  Union Station  E4203          Mimico      05:01:00   UPE   \n",
       "2        2  Union Station  E4001          Mimico      05:14:00   UPE   \n",
       "3        3  Union Station  E4003          Mimico      05:30:00   UPE   \n",
       "4        4  Union Station   4002      UP Airport      05:52:00   UPE   \n",
       "..     ...            ...    ...             ...           ...   ...   \n",
       "381    381  Union Station   1224       Aldershot      17:35:00    14   \n",
       "382    382  Union Station   6232          Aurora      21:33:00    14   \n",
       "383    383  Union Station  E7738  Mount Pleasant      22:32:00    14   \n",
       "384    384  Union Station   7537       Mount Joy      23:27:00    14   \n",
       "385    385  Union Station   7539       Mount Joy      00:27:00    14   \n",
       "\n",
       "    Departure times  Destinations Corresponding trains    Inbound Line  \\\n",
       "0          04:55:00    UP Airport                 4201  Lakeshore West   \n",
       "1          05:10:00    UP Airport                 4203  Lakeshore West   \n",
       "2          05:30:00    UP Airport                 4001  Lakeshore West   \n",
       "3          05:45:00    UP Airport                 4003  Lakeshore West   \n",
       "4          06:00:00    UP Airport                 4005      UP Express   \n",
       "..              ...           ...                  ...             ...   \n",
       "381        17:40:00        Oshawa                 9224  Lakeshore West   \n",
       "382        22:15:00     Mount Joy                 7436          Barrie   \n",
       "383        23:15:00  Lincolnville                 7738       Kitchener   \n",
       "384        23:30:00        Mimico               E7537W     Stouffville   \n",
       "385        00:30:00        Mimico               E7539W     Stouffville   \n",
       "\n",
       "      Outbound Line  \n",
       "0        UP Express  \n",
       "1        UP Express  \n",
       "2        UP Express  \n",
       "3        UP Express  \n",
       "4        UP Express  \n",
       "..              ...  \n",
       "381  Lakeshore East  \n",
       "382     Stouffville  \n",
       "383     Stouffville  \n",
       "384  Lakeshore West  \n",
       "385  Lakeshore West  \n",
       "\n",
       "[386 rows x 11 columns]"
      ],
      "text/html": "<div>\n<style scoped>\n    .dataframe tbody tr th:only-of-type {\n        vertical-align: middle;\n    }\n\n    .dataframe tbody tr th {\n        vertical-align: top;\n    }\n\n    .dataframe thead th {\n        text-align: right;\n    }\n</style>\n<table border=\"1\" class=\"dataframe\">\n  <thead>\n    <tr style=\"text-align: right;\">\n      <th></th>\n      <th>Order</th>\n      <th>Station</th>\n      <th>Trains</th>\n      <th>Origins</th>\n      <th>Arrival times</th>\n      <th>Track</th>\n      <th>Departure times</th>\n      <th>Destinations</th>\n      <th>Corresponding trains</th>\n      <th>Inbound Line</th>\n      <th>Outbound Line</th>\n    </tr>\n  </thead>\n  <tbody>\n    <tr>\n      <th>0</th>\n      <td>0</td>\n      <td>Union Station</td>\n      <td>E4201</td>\n      <td>Mimico</td>\n      <td>04:46:00</td>\n      <td>UPE</td>\n      <td>04:55:00</td>\n      <td>UP Airport</td>\n      <td>4201</td>\n      <td>Lakeshore West</td>\n      <td>UP Express</td>\n    </tr>\n    <tr>\n      <th>1</th>\n      <td>1</td>\n      <td>Union Station</td>\n      <td>E4203</td>\n      <td>Mimico</td>\n      <td>05:01:00</td>\n      <td>UPE</td>\n      <td>05:10:00</td>\n      <td>UP Airport</td>\n      <td>4203</td>\n      <td>Lakeshore West</td>\n      <td>UP Express</td>\n    </tr>\n    <tr>\n      <th>2</th>\n      <td>2</td>\n      <td>Union Station</td>\n      <td>E4001</td>\n      <td>Mimico</td>\n      <td>05:14:00</td>\n      <td>UPE</td>\n      <td>05:30:00</td>\n      <td>UP Airport</td>\n      <td>4001</td>\n      <td>Lakeshore West</td>\n      <td>UP Express</td>\n    </tr>\n    <tr>\n      <th>3</th>\n      <td>3</td>\n      <td>Union Station</td>\n      <td>E4003</td>\n      <td>Mimico</td>\n      <td>05:30:00</td>\n      <td>UPE</td>\n      <td>05:45:00</td>\n      <td>UP Airport</td>\n      <td>4003</td>\n      <td>Lakeshore West</td>\n      <td>UP Express</td>\n    </tr>\n    <tr>\n      <th>4</th>\n      <td>4</td>\n      <td>Union Station</td>\n      <td>4002</td>\n      <td>UP Airport</td>\n      <td>05:52:00</td>\n      <td>UPE</td>\n      <td>06:00:00</td>\n      <td>UP Airport</td>\n      <td>4005</td>\n      <td>UP Express</td>\n      <td>UP Express</td>\n    </tr>\n    <tr>\n      <th>...</th>\n      <td>...</td>\n      <td>...</td>\n      <td>...</td>\n      <td>...</td>\n      <td>...</td>\n      <td>...</td>\n      <td>...</td>\n      <td>...</td>\n      <td>...</td>\n      <td>...</td>\n      <td>...</td>\n    </tr>\n    <tr>\n      <th>381</th>\n      <td>381</td>\n      <td>Union Station</td>\n      <td>1224</td>\n      <td>Aldershot</td>\n      <td>17:35:00</td>\n      <td>14</td>\n      <td>17:40:00</td>\n      <td>Oshawa</td>\n      <td>9224</td>\n      <td>Lakeshore West</td>\n      <td>Lakeshore East</td>\n    </tr>\n    <tr>\n      <th>382</th>\n      <td>382</td>\n      <td>Union Station</td>\n      <td>6232</td>\n      <td>Aurora</td>\n      <td>21:33:00</td>\n      <td>14</td>\n      <td>22:15:00</td>\n      <td>Mount Joy</td>\n      <td>7436</td>\n      <td>Barrie</td>\n      <td>Stouffville</td>\n    </tr>\n    <tr>\n      <th>383</th>\n      <td>383</td>\n      <td>Union Station</td>\n      <td>E7738</td>\n      <td>Mount Pleasant</td>\n      <td>22:32:00</td>\n      <td>14</td>\n      <td>23:15:00</td>\n      <td>Lincolnville</td>\n      <td>7738</td>\n      <td>Kitchener</td>\n      <td>Stouffville</td>\n    </tr>\n    <tr>\n      <th>384</th>\n      <td>384</td>\n      <td>Union Station</td>\n      <td>7537</td>\n      <td>Mount Joy</td>\n      <td>23:27:00</td>\n      <td>14</td>\n      <td>23:30:00</td>\n      <td>Mimico</td>\n      <td>E7537W</td>\n      <td>Stouffville</td>\n      <td>Lakeshore West</td>\n    </tr>\n    <tr>\n      <th>385</th>\n      <td>385</td>\n      <td>Union Station</td>\n      <td>7539</td>\n      <td>Mount Joy</td>\n      <td>00:27:00</td>\n      <td>14</td>\n      <td>00:30:00</td>\n      <td>Mimico</td>\n      <td>E7539W</td>\n      <td>Stouffville</td>\n      <td>Lakeshore West</td>\n    </tr>\n  </tbody>\n</table>\n<p>386 rows × 11 columns</p>\n</div>"
     },
     "metadata": {},
     "execution_count": 203
    }
   ],
   "source": [
    "occupation_table = occupation_table.drop(columns = ['Inbound Routes','Outbound Routes'], axis = 1)\n",
    "occupation_table"
   ]
  },
  {
   "cell_type": "code",
   "execution_count": 204,
   "metadata": {},
   "outputs": [
    {
     "output_type": "execute_result",
     "data": {
      "text/plain": [
       "      Order        Station Trains         Origins Arrival times Track  \\\n",
       "0         0  Union Station  E4201          Mimico      04:46:00   UPE   \n",
       "772       0  Union Station  E4201          Mimico      04:46:00   UPE   \n",
       "386       0  Union Station  E4201          Mimico      04:46:00   UPE   \n",
       "1         1  Union Station  E4203          Mimico      05:01:00   UPE   \n",
       "773       1  Union Station  E4203          Mimico      05:01:00   UPE   \n",
       "...     ...            ...    ...             ...           ...   ...   \n",
       "769     383  Union Station  E7738  Mount Pleasant      22:32:00    14   \n",
       "383     383  Union Station  E7738  Mount Pleasant      22:32:00    14   \n",
       "1541    383  Union Station  E7738  Mount Pleasant      22:32:00    14   \n",
       "384     384  Union Station   7537       Mount Joy      23:27:00    14   \n",
       "385     385  Union Station   7539       Mount Joy      00:27:00    14   \n",
       "\n",
       "     Departure times  Destinations Corresponding trains    Inbound Line  \\\n",
       "0           04:55:00    UP Airport                 4201  Lakeshore West   \n",
       "772         04:55:00    UP Airport                 4201  Lakeshore West   \n",
       "386         04:55:00    UP Airport                 4201  Lakeshore West   \n",
       "1           05:10:00    UP Airport                 4203  Lakeshore West   \n",
       "773         05:10:00    UP Airport                 4203  Lakeshore West   \n",
       "...              ...           ...                  ...             ...   \n",
       "769         23:15:00  Lincolnville                 7738       Kitchener   \n",
       "383         23:15:00  Lincolnville                 7738       Kitchener   \n",
       "1541        23:15:00  Lincolnville                 7738       Kitchener   \n",
       "384         23:30:00        Mimico               E7537W     Stouffville   \n",
       "385         00:30:00        Mimico               E7539W     Stouffville   \n",
       "\n",
       "       Outbound Line           Outbound Route  \n",
       "0         UP Express                UPE_OUT_1  \n",
       "772       UP Express                      NaN  \n",
       "386       UP Express                UPE_OUT_2  \n",
       "1         UP Express                UPE_OUT_1  \n",
       "773       UP Express                      NaN  \n",
       "...              ...                      ...  \n",
       "769      Stouffville  LAKE_E_STOUFDANF_OUT_11  \n",
       "383      Stouffville  LAKE_E_STOUFDANF_OUT_10  \n",
       "1541     Stouffville                      NaN  \n",
       "384   Lakeshore West                      NaN  \n",
       "385   Lakeshore West                      NaN  \n",
       "\n",
       "[1084 rows x 12 columns]"
      ],
      "text/html": "<div>\n<style scoped>\n    .dataframe tbody tr th:only-of-type {\n        vertical-align: middle;\n    }\n\n    .dataframe tbody tr th {\n        vertical-align: top;\n    }\n\n    .dataframe thead th {\n        text-align: right;\n    }\n</style>\n<table border=\"1\" class=\"dataframe\">\n  <thead>\n    <tr style=\"text-align: right;\">\n      <th></th>\n      <th>Order</th>\n      <th>Station</th>\n      <th>Trains</th>\n      <th>Origins</th>\n      <th>Arrival times</th>\n      <th>Track</th>\n      <th>Departure times</th>\n      <th>Destinations</th>\n      <th>Corresponding trains</th>\n      <th>Inbound Line</th>\n      <th>Outbound Line</th>\n      <th>Outbound Route</th>\n    </tr>\n  </thead>\n  <tbody>\n    <tr>\n      <th>0</th>\n      <td>0</td>\n      <td>Union Station</td>\n      <td>E4201</td>\n      <td>Mimico</td>\n      <td>04:46:00</td>\n      <td>UPE</td>\n      <td>04:55:00</td>\n      <td>UP Airport</td>\n      <td>4201</td>\n      <td>Lakeshore West</td>\n      <td>UP Express</td>\n      <td>UPE_OUT_1</td>\n    </tr>\n    <tr>\n      <th>772</th>\n      <td>0</td>\n      <td>Union Station</td>\n      <td>E4201</td>\n      <td>Mimico</td>\n      <td>04:46:00</td>\n      <td>UPE</td>\n      <td>04:55:00</td>\n      <td>UP Airport</td>\n      <td>4201</td>\n      <td>Lakeshore West</td>\n      <td>UP Express</td>\n      <td>NaN</td>\n    </tr>\n    <tr>\n      <th>386</th>\n      <td>0</td>\n      <td>Union Station</td>\n      <td>E4201</td>\n      <td>Mimico</td>\n      <td>04:46:00</td>\n      <td>UPE</td>\n      <td>04:55:00</td>\n      <td>UP Airport</td>\n      <td>4201</td>\n      <td>Lakeshore West</td>\n      <td>UP Express</td>\n      <td>UPE_OUT_2</td>\n    </tr>\n    <tr>\n      <th>1</th>\n      <td>1</td>\n      <td>Union Station</td>\n      <td>E4203</td>\n      <td>Mimico</td>\n      <td>05:01:00</td>\n      <td>UPE</td>\n      <td>05:10:00</td>\n      <td>UP Airport</td>\n      <td>4203</td>\n      <td>Lakeshore West</td>\n      <td>UP Express</td>\n      <td>UPE_OUT_1</td>\n    </tr>\n    <tr>\n      <th>773</th>\n      <td>1</td>\n      <td>Union Station</td>\n      <td>E4203</td>\n      <td>Mimico</td>\n      <td>05:01:00</td>\n      <td>UPE</td>\n      <td>05:10:00</td>\n      <td>UP Airport</td>\n      <td>4203</td>\n      <td>Lakeshore West</td>\n      <td>UP Express</td>\n      <td>NaN</td>\n    </tr>\n    <tr>\n      <th>...</th>\n      <td>...</td>\n      <td>...</td>\n      <td>...</td>\n      <td>...</td>\n      <td>...</td>\n      <td>...</td>\n      <td>...</td>\n      <td>...</td>\n      <td>...</td>\n      <td>...</td>\n      <td>...</td>\n      <td>...</td>\n    </tr>\n    <tr>\n      <th>769</th>\n      <td>383</td>\n      <td>Union Station</td>\n      <td>E7738</td>\n      <td>Mount Pleasant</td>\n      <td>22:32:00</td>\n      <td>14</td>\n      <td>23:15:00</td>\n      <td>Lincolnville</td>\n      <td>7738</td>\n      <td>Kitchener</td>\n      <td>Stouffville</td>\n      <td>LAKE_E_STOUFDANF_OUT_11</td>\n    </tr>\n    <tr>\n      <th>383</th>\n      <td>383</td>\n      <td>Union Station</td>\n      <td>E7738</td>\n      <td>Mount Pleasant</td>\n      <td>22:32:00</td>\n      <td>14</td>\n      <td>23:15:00</td>\n      <td>Lincolnville</td>\n      <td>7738</td>\n      <td>Kitchener</td>\n      <td>Stouffville</td>\n      <td>LAKE_E_STOUFDANF_OUT_10</td>\n    </tr>\n    <tr>\n      <th>1541</th>\n      <td>383</td>\n      <td>Union Station</td>\n      <td>E7738</td>\n      <td>Mount Pleasant</td>\n      <td>22:32:00</td>\n      <td>14</td>\n      <td>23:15:00</td>\n      <td>Lincolnville</td>\n      <td>7738</td>\n      <td>Kitchener</td>\n      <td>Stouffville</td>\n      <td>NaN</td>\n    </tr>\n    <tr>\n      <th>384</th>\n      <td>384</td>\n      <td>Union Station</td>\n      <td>7537</td>\n      <td>Mount Joy</td>\n      <td>23:27:00</td>\n      <td>14</td>\n      <td>23:30:00</td>\n      <td>Mimico</td>\n      <td>E7537W</td>\n      <td>Stouffville</td>\n      <td>Lakeshore West</td>\n      <td>NaN</td>\n    </tr>\n    <tr>\n      <th>385</th>\n      <td>385</td>\n      <td>Union Station</td>\n      <td>7539</td>\n      <td>Mount Joy</td>\n      <td>00:27:00</td>\n      <td>14</td>\n      <td>00:30:00</td>\n      <td>Mimico</td>\n      <td>E7539W</td>\n      <td>Stouffville</td>\n      <td>Lakeshore West</td>\n      <td>NaN</td>\n    </tr>\n  </tbody>\n</table>\n<p>1084 rows × 12 columns</p>\n</div>"
     },
     "metadata": {},
     "execution_count": 204
    }
   ],
   "source": [
    "\n",
    "occupation_table_out = pd.merge(occupation_table , outRoutes, left_index=True, right_index=True)\n",
    "occupation_table_out = occupation_table_out.melt(id_vars = occupation_table.columns, value_name='Outbound Route').drop(columns='variable',axis=1).drop_duplicates().sort_values(by='Order')\n",
    "occupation_table_out"
   ]
  },
  {
   "cell_type": "code",
   "execution_count": 205,
   "metadata": {},
   "outputs": [
    {
     "output_type": "execute_result",
     "data": {
      "text/plain": [
       "     Order        Station Trains         Origins Arrival times Track  \\\n",
       "0        0  Union Station  E4201          Mimico      04:46:00   UPE   \n",
       "386      0  Union Station  E4201          Mimico      04:46:00   UPE   \n",
       "387      1  Union Station  E4203          Mimico      05:01:00   UPE   \n",
       "1        1  Union Station  E4203          Mimico      05:01:00   UPE   \n",
       "2        2  Union Station  E4001          Mimico      05:14:00   UPE   \n",
       "..     ...            ...    ...             ...           ...   ...   \n",
       "383    383  Union Station  E7738  Mount Pleasant      22:32:00    14   \n",
       "770    384  Union Station   7537       Mount Joy      23:27:00    14   \n",
       "384    384  Union Station   7537       Mount Joy      23:27:00    14   \n",
       "771    385  Union Station   7539       Mount Joy      00:27:00    14   \n",
       "385    385  Union Station   7539       Mount Joy      00:27:00    14   \n",
       "\n",
       "    Departure times  Destinations Corresponding trains    Inbound Line  \\\n",
       "0          04:55:00    UP Airport                 4201  Lakeshore West   \n",
       "386        04:55:00    UP Airport                 4201  Lakeshore West   \n",
       "387        05:10:00    UP Airport                 4203  Lakeshore West   \n",
       "1          05:10:00    UP Airport                 4203  Lakeshore West   \n",
       "2          05:30:00    UP Airport                 4001  Lakeshore West   \n",
       "..              ...           ...                  ...             ...   \n",
       "383        23:15:00  Lincolnville                 7738       Kitchener   \n",
       "770        23:30:00        Mimico               E7537W     Stouffville   \n",
       "384        23:30:00        Mimico               E7537W     Stouffville   \n",
       "771        00:30:00        Mimico               E7539W     Stouffville   \n",
       "385        00:30:00        Mimico               E7539W     Stouffville   \n",
       "\n",
       "      Outbound Line          Inbound Route  \n",
       "0        UP Express            LAKE_W_IN_1  \n",
       "386      UP Express                    NaN  \n",
       "387      UP Express                    NaN  \n",
       "1        UP Express            LAKE_W_IN_1  \n",
       "2        UP Express            LAKE_W_IN_1  \n",
       "..              ...                    ...  \n",
       "383     Stouffville          BARKITCH_IN_9  \n",
       "770  Lakeshore West                    NaN  \n",
       "384  Lakeshore West  LAKE_E_STOUFDANF_IN_7  \n",
       "771  Lakeshore West                    NaN  \n",
       "385  Lakeshore West  LAKE_E_STOUFDANF_IN_7  \n",
       "\n",
       "[796 rows x 12 columns]"
      ],
      "text/html": "<div>\n<style scoped>\n    .dataframe tbody tr th:only-of-type {\n        vertical-align: middle;\n    }\n\n    .dataframe tbody tr th {\n        vertical-align: top;\n    }\n\n    .dataframe thead th {\n        text-align: right;\n    }\n</style>\n<table border=\"1\" class=\"dataframe\">\n  <thead>\n    <tr style=\"text-align: right;\">\n      <th></th>\n      <th>Order</th>\n      <th>Station</th>\n      <th>Trains</th>\n      <th>Origins</th>\n      <th>Arrival times</th>\n      <th>Track</th>\n      <th>Departure times</th>\n      <th>Destinations</th>\n      <th>Corresponding trains</th>\n      <th>Inbound Line</th>\n      <th>Outbound Line</th>\n      <th>Inbound Route</th>\n    </tr>\n  </thead>\n  <tbody>\n    <tr>\n      <th>0</th>\n      <td>0</td>\n      <td>Union Station</td>\n      <td>E4201</td>\n      <td>Mimico</td>\n      <td>04:46:00</td>\n      <td>UPE</td>\n      <td>04:55:00</td>\n      <td>UP Airport</td>\n      <td>4201</td>\n      <td>Lakeshore West</td>\n      <td>UP Express</td>\n      <td>LAKE_W_IN_1</td>\n    </tr>\n    <tr>\n      <th>386</th>\n      <td>0</td>\n      <td>Union Station</td>\n      <td>E4201</td>\n      <td>Mimico</td>\n      <td>04:46:00</td>\n      <td>UPE</td>\n      <td>04:55:00</td>\n      <td>UP Airport</td>\n      <td>4201</td>\n      <td>Lakeshore West</td>\n      <td>UP Express</td>\n      <td>NaN</td>\n    </tr>\n    <tr>\n      <th>387</th>\n      <td>1</td>\n      <td>Union Station</td>\n      <td>E4203</td>\n      <td>Mimico</td>\n      <td>05:01:00</td>\n      <td>UPE</td>\n      <td>05:10:00</td>\n      <td>UP Airport</td>\n      <td>4203</td>\n      <td>Lakeshore West</td>\n      <td>UP Express</td>\n      <td>NaN</td>\n    </tr>\n    <tr>\n      <th>1</th>\n      <td>1</td>\n      <td>Union Station</td>\n      <td>E4203</td>\n      <td>Mimico</td>\n      <td>05:01:00</td>\n      <td>UPE</td>\n      <td>05:10:00</td>\n      <td>UP Airport</td>\n      <td>4203</td>\n      <td>Lakeshore West</td>\n      <td>UP Express</td>\n      <td>LAKE_W_IN_1</td>\n    </tr>\n    <tr>\n      <th>2</th>\n      <td>2</td>\n      <td>Union Station</td>\n      <td>E4001</td>\n      <td>Mimico</td>\n      <td>05:14:00</td>\n      <td>UPE</td>\n      <td>05:30:00</td>\n      <td>UP Airport</td>\n      <td>4001</td>\n      <td>Lakeshore West</td>\n      <td>UP Express</td>\n      <td>LAKE_W_IN_1</td>\n    </tr>\n    <tr>\n      <th>...</th>\n      <td>...</td>\n      <td>...</td>\n      <td>...</td>\n      <td>...</td>\n      <td>...</td>\n      <td>...</td>\n      <td>...</td>\n      <td>...</td>\n      <td>...</td>\n      <td>...</td>\n      <td>...</td>\n      <td>...</td>\n    </tr>\n    <tr>\n      <th>383</th>\n      <td>383</td>\n      <td>Union Station</td>\n      <td>E7738</td>\n      <td>Mount Pleasant</td>\n      <td>22:32:00</td>\n      <td>14</td>\n      <td>23:15:00</td>\n      <td>Lincolnville</td>\n      <td>7738</td>\n      <td>Kitchener</td>\n      <td>Stouffville</td>\n      <td>BARKITCH_IN_9</td>\n    </tr>\n    <tr>\n      <th>770</th>\n      <td>384</td>\n      <td>Union Station</td>\n      <td>7537</td>\n      <td>Mount Joy</td>\n      <td>23:27:00</td>\n      <td>14</td>\n      <td>23:30:00</td>\n      <td>Mimico</td>\n      <td>E7537W</td>\n      <td>Stouffville</td>\n      <td>Lakeshore West</td>\n      <td>NaN</td>\n    </tr>\n    <tr>\n      <th>384</th>\n      <td>384</td>\n      <td>Union Station</td>\n      <td>7537</td>\n      <td>Mount Joy</td>\n      <td>23:27:00</td>\n      <td>14</td>\n      <td>23:30:00</td>\n      <td>Mimico</td>\n      <td>E7537W</td>\n      <td>Stouffville</td>\n      <td>Lakeshore West</td>\n      <td>LAKE_E_STOUFDANF_IN_7</td>\n    </tr>\n    <tr>\n      <th>771</th>\n      <td>385</td>\n      <td>Union Station</td>\n      <td>7539</td>\n      <td>Mount Joy</td>\n      <td>00:27:00</td>\n      <td>14</td>\n      <td>00:30:00</td>\n      <td>Mimico</td>\n      <td>E7539W</td>\n      <td>Stouffville</td>\n      <td>Lakeshore West</td>\n      <td>NaN</td>\n    </tr>\n    <tr>\n      <th>385</th>\n      <td>385</td>\n      <td>Union Station</td>\n      <td>7539</td>\n      <td>Mount Joy</td>\n      <td>00:27:00</td>\n      <td>14</td>\n      <td>00:30:00</td>\n      <td>Mimico</td>\n      <td>E7539W</td>\n      <td>Stouffville</td>\n      <td>Lakeshore West</td>\n      <td>LAKE_E_STOUFDANF_IN_7</td>\n    </tr>\n  </tbody>\n</table>\n<p>796 rows × 12 columns</p>\n</div>"
     },
     "metadata": {},
     "execution_count": 205
    }
   ],
   "source": [
    "occupation_table_in = pd.merge(occupation_table , inRoutes, left_index=True, right_index=True)\n",
    "occupation_table_in = occupation_table_in.melt(id_vars = occupation_table.columns, value_name='Inbound Route').drop(columns='variable',axis=1).drop_duplicates().sort_values(by='Order')\n",
    "occupation_table_in "
   ]
  },
  {
   "cell_type": "code",
   "execution_count": 206,
   "metadata": {},
   "outputs": [],
   "source": [
    "#occupation_table_in.to_csv(r'C:\\Users\\LUCME\\Desktop\\File Transfer\\Desktop\\Folders - Desktop\\Track and Timetable Data from Treno for RER\\Output\\union_station_track_occupation_inbound_routes_V2.csv', sep='\\t',                                    encoding='UTF-16', index = False)\n",
    "#occupation_table_out.to_csv(r'C:\\Users\\LUCME\\Desktop\\File Transfer\\Desktop\\Folders - Desktop\\Track and Timetable Data from Treno for RER\\Output\\union_station_track_occupation_outbound_routes_V2.csv', sep='\\t',                                  encoding='UTF-16', index = False)\n"
   ]
  },
  {
   "cell_type": "code",
   "execution_count": 207,
   "metadata": {},
   "outputs": [],
   "source": [
    "def removeBlank(df, groupbycol='Order', droprowscol='Route'):\n",
    "    \n",
    "    occupation_table_df_list = []\n",
    "    for order, group in df.groupby(by=groupbycol):\n",
    "        if group.shape[0] > 1:\n",
    "            group.dropna(subset=[droprowscol], inplace=True)\n",
    "            occupation_table_df_list.append(group)\n",
    "        else:\n",
    "            occupation_table_df_list.append(group)\n",
    "\n",
    "    return occupation_table_df_list"
   ]
  },
  {
   "cell_type": "code",
   "execution_count": 209,
   "metadata": {
    "tags": []
   },
   "outputs": [],
   "source": [
    "occupation_table_out_df_list = removeBlank(df=occupation_table_out ,groupbycol='Order', droprowscol='Outbound Route')\n",
    "\n",
    "\n",
    "occupation_table_in_df_list = removeBlank(df=occupation_table_in ,groupbycol='Order', droprowscol='Inbound Route')\n",
    "        "
   ]
  },
  {
   "cell_type": "code",
   "execution_count": 210,
   "metadata": {},
   "outputs": [],
   "source": [
    "pd.concat(occupation_table_in_df_list).sort_values(by = 'Order').to_csv(r'C:\\Users\\LUCME\\Desktop\\File Transfer\\Desktop\\Folders - Desktop\\Track and Timetable Data from Treno for RER\\Output\\union_station_track_occupation_inbound_routes_V4.csv', sep='\\t',encoding='UTF-16', index = False)\n",
    "\n",
    "pd.concat(occupation_table_out_df_list).sort_values(by = 'Order').to_csv(r'C:\\Users\\LUCME\\Desktop\\File Transfer\\Desktop\\Folders - Desktop\\Track and Timetable Data from Treno for RER\\Output\\union_station_track_occupation_outbound_routes_V4.csv', sep='\\t',encoding='UTF-16', index = False)"
   ]
  },
  {
   "cell_type": "code",
   "execution_count": null,
   "metadata": {},
   "outputs": [],
   "source": []
  }
 ]
}