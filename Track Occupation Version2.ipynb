{
 "metadata": {
  "language_info": {
   "codemirror_mode": {
    "name": "ipython",
    "version": 3
   },
   "file_extension": ".py",
   "mimetype": "text/x-python",
   "name": "python",
   "nbconvert_exporter": "python",
   "pygments_lexer": "ipython3",
   "version": "3.9.1-final"
  },
  "orig_nbformat": 2,
  "kernelspec": {
   "name": "python3",
   "display_name": "Python 3.9.1 64-bit",
   "metadata": {
    "interpreter": {
     "hash": "3d5751fe2988eb1e492bba041d790d98e8f950f96258860244dfffaefd7c90da"
    }
   }
  }
 },
 "nbformat": 4,
 "nbformat_minor": 2,
 "cells": [
  {
   "cell_type": "code",
   "execution_count": 208,
   "metadata": {},
   "outputs": [
    {
     "output_type": "execute_result",
     "data": {
      "text/plain": [
       "     Order        Station Trains         Origins Arrival times Track  \\\n",
       "0        0  Union Station  E4201          Mimico      04:46:00   UPE   \n",
       "1        1  Union Station  E4203          Mimico      05:01:00   UPE   \n",
       "2        2  Union Station  E4001          Mimico      05:14:00   UPE   \n",
       "3        3  Union Station  E4003          Mimico      05:30:00   UPE   \n",
       "4        4  Union Station   4002      UP Airport      05:52:00   UPE   \n",
       "..     ...            ...    ...             ...           ...   ...   \n",
       "381    381  Union Station   1224       Aldershot      17:35:00    14   \n",
       "382    382  Union Station   6232          Aurora      21:33:00    14   \n",
       "383    383  Union Station  E7738  Mount Pleasant      22:32:00    14   \n",
       "384    384  Union Station   7537       Mount Joy      23:27:00    14   \n",
       "385    385  Union Station   7539       Mount Joy      00:27:00    14   \n",
       "\n",
       "    Departure times  Destinations Corresponding trains  \n",
       "0          04:55:00    UP Airport                 4201  \n",
       "1          05:10:00    UP Airport                 4203  \n",
       "2          05:30:00    UP Airport                 4001  \n",
       "3          05:45:00    UP Airport                 4003  \n",
       "4          06:00:00    UP Airport                 4005  \n",
       "..              ...           ...                  ...  \n",
       "381        17:40:00        Oshawa                 9224  \n",
       "382        22:15:00     Mount Joy                 7436  \n",
       "383        23:15:00  Lincolnville                 7738  \n",
       "384        23:30:00        Mimico               E7537W  \n",
       "385        00:30:00        Mimico               E7539W  \n",
       "\n",
       "[386 rows x 9 columns]"
      ],
      "text/html": "<div>\n<style scoped>\n    .dataframe tbody tr th:only-of-type {\n        vertical-align: middle;\n    }\n\n    .dataframe tbody tr th {\n        vertical-align: top;\n    }\n\n    .dataframe thead th {\n        text-align: right;\n    }\n</style>\n<table border=\"1\" class=\"dataframe\">\n  <thead>\n    <tr style=\"text-align: right;\">\n      <th></th>\n      <th>Order</th>\n      <th>Station</th>\n      <th>Trains</th>\n      <th>Origins</th>\n      <th>Arrival times</th>\n      <th>Track</th>\n      <th>Departure times</th>\n      <th>Destinations</th>\n      <th>Corresponding trains</th>\n    </tr>\n  </thead>\n  <tbody>\n    <tr>\n      <th>0</th>\n      <td>0</td>\n      <td>Union Station</td>\n      <td>E4201</td>\n      <td>Mimico</td>\n      <td>04:46:00</td>\n      <td>UPE</td>\n      <td>04:55:00</td>\n      <td>UP Airport</td>\n      <td>4201</td>\n    </tr>\n    <tr>\n      <th>1</th>\n      <td>1</td>\n      <td>Union Station</td>\n      <td>E4203</td>\n      <td>Mimico</td>\n      <td>05:01:00</td>\n      <td>UPE</td>\n      <td>05:10:00</td>\n      <td>UP Airport</td>\n      <td>4203</td>\n    </tr>\n    <tr>\n      <th>2</th>\n      <td>2</td>\n      <td>Union Station</td>\n      <td>E4001</td>\n      <td>Mimico</td>\n      <td>05:14:00</td>\n      <td>UPE</td>\n      <td>05:30:00</td>\n      <td>UP Airport</td>\n      <td>4001</td>\n    </tr>\n    <tr>\n      <th>3</th>\n      <td>3</td>\n      <td>Union Station</td>\n      <td>E4003</td>\n      <td>Mimico</td>\n      <td>05:30:00</td>\n      <td>UPE</td>\n      <td>05:45:00</td>\n      <td>UP Airport</td>\n      <td>4003</td>\n    </tr>\n    <tr>\n      <th>4</th>\n      <td>4</td>\n      <td>Union Station</td>\n      <td>4002</td>\n      <td>UP Airport</td>\n      <td>05:52:00</td>\n      <td>UPE</td>\n      <td>06:00:00</td>\n      <td>UP Airport</td>\n      <td>4005</td>\n    </tr>\n    <tr>\n      <th>...</th>\n      <td>...</td>\n      <td>...</td>\n      <td>...</td>\n      <td>...</td>\n      <td>...</td>\n      <td>...</td>\n      <td>...</td>\n      <td>...</td>\n      <td>...</td>\n    </tr>\n    <tr>\n      <th>381</th>\n      <td>381</td>\n      <td>Union Station</td>\n      <td>1224</td>\n      <td>Aldershot</td>\n      <td>17:35:00</td>\n      <td>14</td>\n      <td>17:40:00</td>\n      <td>Oshawa</td>\n      <td>9224</td>\n    </tr>\n    <tr>\n      <th>382</th>\n      <td>382</td>\n      <td>Union Station</td>\n      <td>6232</td>\n      <td>Aurora</td>\n      <td>21:33:00</td>\n      <td>14</td>\n      <td>22:15:00</td>\n      <td>Mount Joy</td>\n      <td>7436</td>\n    </tr>\n    <tr>\n      <th>383</th>\n      <td>383</td>\n      <td>Union Station</td>\n      <td>E7738</td>\n      <td>Mount Pleasant</td>\n      <td>22:32:00</td>\n      <td>14</td>\n      <td>23:15:00</td>\n      <td>Lincolnville</td>\n      <td>7738</td>\n    </tr>\n    <tr>\n      <th>384</th>\n      <td>384</td>\n      <td>Union Station</td>\n      <td>7537</td>\n      <td>Mount Joy</td>\n      <td>23:27:00</td>\n      <td>14</td>\n      <td>23:30:00</td>\n      <td>Mimico</td>\n      <td>E7537W</td>\n    </tr>\n    <tr>\n      <th>385</th>\n      <td>385</td>\n      <td>Union Station</td>\n      <td>7539</td>\n      <td>Mount Joy</td>\n      <td>00:27:00</td>\n      <td>14</td>\n      <td>00:30:00</td>\n      <td>Mimico</td>\n      <td>E7539W</td>\n    </tr>\n  </tbody>\n</table>\n<p>386 rows × 9 columns</p>\n</div>"
     },
     "metadata": {},
     "execution_count": 208
    }
   ],
   "source": [
    "import pandas as pd\n",
    "import numpy as np\n",
    "import matplotlib\n",
    "\n",
    "\n",
    "address1 = r'C:\\Users\\lucme\\Desktop\\File Transfer\\Desktop\\Folders - Desktop\\Track and Timetable Data from Treno for RER\\Track Occupation Data\\Union.csv'\n",
    "occupation_table = pd.read_csv(address1, header=0, sep = ';')\n",
    "occupation_table.drop(occupation_table.columns[len(occupation_table.columns)-1], axis=1, inplace=True)\n",
    "\n",
    "occupation_table.insert(column = 'Order', loc = 0, value = occupation_table.index)\n",
    "\n",
    "occupation_table"
   ]
  },
  {
   "cell_type": "code",
   "execution_count": 209,
   "metadata": {},
   "outputs": [
    {
     "output_type": "execute_result",
     "data": {
      "text/plain": [
       "              Line         Origins\n",
       "0      Stouffville         Kennedy\n",
       "1      Stouffville       Agincourt\n",
       "2      Stouffville         Miliken\n",
       "3      Stouffville      Unionville\n",
       "4      Stouffville      Centennial\n",
       "..             ...             ...\n",
       "59  Lakeshore West       Aldershot\n",
       "60  Lakeshore West        Hamilton\n",
       "61  Lakeshore West    West Harbour\n",
       "62  Lakeshore West  St. Catherines\n",
       "63  Lakeshore West   Niagara Falls\n",
       "\n",
       "[64 rows x 2 columns]"
      ],
      "text/html": "<div>\n<style scoped>\n    .dataframe tbody tr th:only-of-type {\n        vertical-align: middle;\n    }\n\n    .dataframe tbody tr th {\n        vertical-align: top;\n    }\n\n    .dataframe thead th {\n        text-align: right;\n    }\n</style>\n<table border=\"1\" class=\"dataframe\">\n  <thead>\n    <tr style=\"text-align: right;\">\n      <th></th>\n      <th>Line</th>\n      <th>Origins</th>\n    </tr>\n  </thead>\n  <tbody>\n    <tr>\n      <th>0</th>\n      <td>Stouffville</td>\n      <td>Kennedy</td>\n    </tr>\n    <tr>\n      <th>1</th>\n      <td>Stouffville</td>\n      <td>Agincourt</td>\n    </tr>\n    <tr>\n      <th>2</th>\n      <td>Stouffville</td>\n      <td>Miliken</td>\n    </tr>\n    <tr>\n      <th>3</th>\n      <td>Stouffville</td>\n      <td>Unionville</td>\n    </tr>\n    <tr>\n      <th>4</th>\n      <td>Stouffville</td>\n      <td>Centennial</td>\n    </tr>\n    <tr>\n      <th>...</th>\n      <td>...</td>\n      <td>...</td>\n    </tr>\n    <tr>\n      <th>59</th>\n      <td>Lakeshore West</td>\n      <td>Aldershot</td>\n    </tr>\n    <tr>\n      <th>60</th>\n      <td>Lakeshore West</td>\n      <td>Hamilton</td>\n    </tr>\n    <tr>\n      <th>61</th>\n      <td>Lakeshore West</td>\n      <td>West Harbour</td>\n    </tr>\n    <tr>\n      <th>62</th>\n      <td>Lakeshore West</td>\n      <td>St. Catherines</td>\n    </tr>\n    <tr>\n      <th>63</th>\n      <td>Lakeshore West</td>\n      <td>Niagara Falls</td>\n    </tr>\n  </tbody>\n</table>\n<p>64 rows × 2 columns</p>\n</div>"
     },
     "metadata": {},
     "execution_count": 209
    }
   ],
   "source": [
    "address2 = r'C:\\Users\\lucme\\Desktop\\File Transfer\\Desktop\\Folders - Desktop\\Track and Timetable Data from Treno for RER\\Track Occupation Data\\StationsLineList.csv'\n",
    "stationslist = pd.read_csv(address2, header=0)\n",
    "stationlist_origins = stationslist.copy()\n",
    "stationlist_origins.columns = ['Line','Origins']\n",
    "\n",
    "stationlist_destinations = stationslist.copy()\n",
    "stationlist_destinations.columns = ['Line','Destinations']\n",
    "\n",
    "stationlist_origins"
   ]
  },
  {
   "cell_type": "code",
   "execution_count": 189,
   "metadata": {},
   "outputs": [
    {
     "output_type": "execute_result",
     "data": {
      "text/plain": [
       "   Inbound Line Track                      Inbound Routes\n",
       "0        Barrie     1                     [BARKITCH_IN_1]\n",
       "1        Barrie    12                     [BARKITCH_IN_8]\n",
       "2        Barrie    14                     [BARKITCH_IN_9]\n",
       "3        Barrie     2                     [BARKITCH_IN_2]\n",
       "4        Barrie     4                     [BARKITCH_IN_3]\n",
       "..          ...   ...                                 ...\n",
       "80          VIA    10                [LAKE_W_VIANYC_IN_3]\n",
       "81          VIA     3                      [RICHILL_IN_2]\n",
       "82          VIA     5                      [RICHILL_IN_3]\n",
       "83          VIA     8  [LAKE_W_VIANYC_IN_1, RICHILL_IN_4]\n",
       "84          VIA     9                [LAKE_W_VIANYC_IN_2]\n",
       "\n",
       "[85 rows x 3 columns]"
      ],
      "text/html": "<div>\n<style scoped>\n    .dataframe tbody tr th:only-of-type {\n        vertical-align: middle;\n    }\n\n    .dataframe tbody tr th {\n        vertical-align: top;\n    }\n\n    .dataframe thead th {\n        text-align: right;\n    }\n</style>\n<table border=\"1\" class=\"dataframe\">\n  <thead>\n    <tr style=\"text-align: right;\">\n      <th></th>\n      <th>Inbound Line</th>\n      <th>Track</th>\n      <th>Inbound Routes</th>\n    </tr>\n  </thead>\n  <tbody>\n    <tr>\n      <th>0</th>\n      <td>Barrie</td>\n      <td>1</td>\n      <td>[BARKITCH_IN_1]</td>\n    </tr>\n    <tr>\n      <th>1</th>\n      <td>Barrie</td>\n      <td>12</td>\n      <td>[BARKITCH_IN_8]</td>\n    </tr>\n    <tr>\n      <th>2</th>\n      <td>Barrie</td>\n      <td>14</td>\n      <td>[BARKITCH_IN_9]</td>\n    </tr>\n    <tr>\n      <th>3</th>\n      <td>Barrie</td>\n      <td>2</td>\n      <td>[BARKITCH_IN_2]</td>\n    </tr>\n    <tr>\n      <th>4</th>\n      <td>Barrie</td>\n      <td>4</td>\n      <td>[BARKITCH_IN_3]</td>\n    </tr>\n    <tr>\n      <th>...</th>\n      <td>...</td>\n      <td>...</td>\n      <td>...</td>\n    </tr>\n    <tr>\n      <th>80</th>\n      <td>VIA</td>\n      <td>10</td>\n      <td>[LAKE_W_VIANYC_IN_3]</td>\n    </tr>\n    <tr>\n      <th>81</th>\n      <td>VIA</td>\n      <td>3</td>\n      <td>[RICHILL_IN_2]</td>\n    </tr>\n    <tr>\n      <th>82</th>\n      <td>VIA</td>\n      <td>5</td>\n      <td>[RICHILL_IN_3]</td>\n    </tr>\n    <tr>\n      <th>83</th>\n      <td>VIA</td>\n      <td>8</td>\n      <td>[LAKE_W_VIANYC_IN_1, RICHILL_IN_4]</td>\n    </tr>\n    <tr>\n      <th>84</th>\n      <td>VIA</td>\n      <td>9</td>\n      <td>[LAKE_W_VIANYC_IN_2]</td>\n    </tr>\n  </tbody>\n</table>\n<p>85 rows × 3 columns</p>\n</div>"
     },
     "metadata": {},
     "execution_count": 189
    }
   ],
   "source": [
    "address3 = r'C:\\Users\\lucme\\Desktop\\File Transfer\\Desktop\\Folders - Desktop\\Track and Timetable Data from Treno for RER\\Track Occupation Data\\USCR_Routes.csv'\n",
    "routeslist = pd.read_csv(address3, header=0, delimiter='\\t', encoding='utf16')\n",
    "\n",
    "lineslist = routeslist.Line.str.split(pat=\"/\",expand=True)\n",
    "\n",
    "routeslist=pd.concat([routeslist, lineslist], axis=1, sort=False)\n",
    "routeslist = routeslist.drop(['At_Node','Sequence','Line','Train Types'],axis=1).drop_duplicates(subset=['Route'])\n",
    "keepcols = routeslist.columns[:4].copy().tolist()+['Line']\n",
    "\n",
    "zero = routeslist.copy().drop([1,2],axis=1)\n",
    "one = routeslist.copy().drop([0,2],axis=1)\n",
    "two = routeslist.copy().drop([0,1],axis=1)\n",
    "\n",
    "zero.columns = one.columns = two.columns = keepcols\n",
    "routeslist = pd.concat([zero,one,two],axis=0)\n",
    "inbound_routes = routeslist[routeslist.Direction == 'Inbound']\n",
    "outbound_routes = routeslist[routeslist.Direction == 'Outbound']\n",
    "\n",
    "inbound_routes=inbound_routes.groupby(['Line','Target'])['Route'].apply(list).to_frame().reset_index()\n",
    "\n",
    "outbound_routes=outbound_routes.groupby(['Line','Source'])['Route'].apply(list).to_frame().reset_index()\n",
    "inbound_routes.columns = ['Inbound Line','Track','Inbound Routes']\n",
    "outbound_routes.columns = ['Outbound Line','Track','Outbound Routes']\n",
    "\n",
    "inbound_routes\n",
    "\n"
   ]
  },
  {
   "cell_type": "code",
   "execution_count": 210,
   "metadata": {},
   "outputs": [
    {
     "output_type": "execute_result",
     "data": {
      "text/plain": [
       "     Order        Station Trains         Origins Arrival times Track  \\\n",
       "0        0  Union Station  E4201          Mimico      04:46:00   UPE   \n",
       "1        1  Union Station  E4203          Mimico      05:01:00   UPE   \n",
       "2        2  Union Station  E4001          Mimico      05:14:00   UPE   \n",
       "3        3  Union Station  E4003          Mimico      05:30:00   UPE   \n",
       "4        4  Union Station   4002      UP Airport      05:52:00   UPE   \n",
       "..     ...            ...    ...             ...           ...   ...   \n",
       "381    381  Union Station   1224       Aldershot      17:35:00    14   \n",
       "382    382  Union Station   6232          Aurora      21:33:00    14   \n",
       "383    383  Union Station  E7738  Mount Pleasant      22:32:00    14   \n",
       "384    384  Union Station   7537       Mount Joy      23:27:00    14   \n",
       "385    385  Union Station   7539       Mount Joy      00:27:00    14   \n",
       "\n",
       "    Departure times  Destinations Corresponding trains          Line_x  \\\n",
       "0          04:55:00    UP Airport                 4201  Lakeshore West   \n",
       "1          05:10:00    UP Airport                 4203  Lakeshore West   \n",
       "2          05:30:00    UP Airport                 4001  Lakeshore West   \n",
       "3          05:45:00    UP Airport                 4003  Lakeshore West   \n",
       "4          06:00:00    UP Airport                 4005      Up Express   \n",
       "..              ...           ...                  ...             ...   \n",
       "381        17:40:00        Oshawa                 9224  Lakeshore West   \n",
       "382        22:15:00     Mount Joy                 7436          Barrie   \n",
       "383        23:15:00  Lincolnville                 7738       Kitchener   \n",
       "384        23:30:00        Mimico               E7537W     Stouffville   \n",
       "385        00:30:00        Mimico               E7539W     Stouffville   \n",
       "\n",
       "             Line_y  \n",
       "0        Up Express  \n",
       "1        Up Express  \n",
       "2        Up Express  \n",
       "3        Up Express  \n",
       "4        Up Express  \n",
       "..              ...  \n",
       "381  Lakeshore East  \n",
       "382     Stouffville  \n",
       "383     Stouffville  \n",
       "384  Lakeshore West  \n",
       "385  Lakeshore West  \n",
       "\n",
       "[386 rows x 11 columns]"
      ],
      "text/html": "<div>\n<style scoped>\n    .dataframe tbody tr th:only-of-type {\n        vertical-align: middle;\n    }\n\n    .dataframe tbody tr th {\n        vertical-align: top;\n    }\n\n    .dataframe thead th {\n        text-align: right;\n    }\n</style>\n<table border=\"1\" class=\"dataframe\">\n  <thead>\n    <tr style=\"text-align: right;\">\n      <th></th>\n      <th>Order</th>\n      <th>Station</th>\n      <th>Trains</th>\n      <th>Origins</th>\n      <th>Arrival times</th>\n      <th>Track</th>\n      <th>Departure times</th>\n      <th>Destinations</th>\n      <th>Corresponding trains</th>\n      <th>Line_x</th>\n      <th>Line_y</th>\n    </tr>\n  </thead>\n  <tbody>\n    <tr>\n      <th>0</th>\n      <td>0</td>\n      <td>Union Station</td>\n      <td>E4201</td>\n      <td>Mimico</td>\n      <td>04:46:00</td>\n      <td>UPE</td>\n      <td>04:55:00</td>\n      <td>UP Airport</td>\n      <td>4201</td>\n      <td>Lakeshore West</td>\n      <td>Up Express</td>\n    </tr>\n    <tr>\n      <th>1</th>\n      <td>1</td>\n      <td>Union Station</td>\n      <td>E4203</td>\n      <td>Mimico</td>\n      <td>05:01:00</td>\n      <td>UPE</td>\n      <td>05:10:00</td>\n      <td>UP Airport</td>\n      <td>4203</td>\n      <td>Lakeshore West</td>\n      <td>Up Express</td>\n    </tr>\n    <tr>\n      <th>2</th>\n      <td>2</td>\n      <td>Union Station</td>\n      <td>E4001</td>\n      <td>Mimico</td>\n      <td>05:14:00</td>\n      <td>UPE</td>\n      <td>05:30:00</td>\n      <td>UP Airport</td>\n      <td>4001</td>\n      <td>Lakeshore West</td>\n      <td>Up Express</td>\n    </tr>\n    <tr>\n      <th>3</th>\n      <td>3</td>\n      <td>Union Station</td>\n      <td>E4003</td>\n      <td>Mimico</td>\n      <td>05:30:00</td>\n      <td>UPE</td>\n      <td>05:45:00</td>\n      <td>UP Airport</td>\n      <td>4003</td>\n      <td>Lakeshore West</td>\n      <td>Up Express</td>\n    </tr>\n    <tr>\n      <th>4</th>\n      <td>4</td>\n      <td>Union Station</td>\n      <td>4002</td>\n      <td>UP Airport</td>\n      <td>05:52:00</td>\n      <td>UPE</td>\n      <td>06:00:00</td>\n      <td>UP Airport</td>\n      <td>4005</td>\n      <td>Up Express</td>\n      <td>Up Express</td>\n    </tr>\n    <tr>\n      <th>...</th>\n      <td>...</td>\n      <td>...</td>\n      <td>...</td>\n      <td>...</td>\n      <td>...</td>\n      <td>...</td>\n      <td>...</td>\n      <td>...</td>\n      <td>...</td>\n      <td>...</td>\n      <td>...</td>\n    </tr>\n    <tr>\n      <th>381</th>\n      <td>381</td>\n      <td>Union Station</td>\n      <td>1224</td>\n      <td>Aldershot</td>\n      <td>17:35:00</td>\n      <td>14</td>\n      <td>17:40:00</td>\n      <td>Oshawa</td>\n      <td>9224</td>\n      <td>Lakeshore West</td>\n      <td>Lakeshore East</td>\n    </tr>\n    <tr>\n      <th>382</th>\n      <td>382</td>\n      <td>Union Station</td>\n      <td>6232</td>\n      <td>Aurora</td>\n      <td>21:33:00</td>\n      <td>14</td>\n      <td>22:15:00</td>\n      <td>Mount Joy</td>\n      <td>7436</td>\n      <td>Barrie</td>\n      <td>Stouffville</td>\n    </tr>\n    <tr>\n      <th>383</th>\n      <td>383</td>\n      <td>Union Station</td>\n      <td>E7738</td>\n      <td>Mount Pleasant</td>\n      <td>22:32:00</td>\n      <td>14</td>\n      <td>23:15:00</td>\n      <td>Lincolnville</td>\n      <td>7738</td>\n      <td>Kitchener</td>\n      <td>Stouffville</td>\n    </tr>\n    <tr>\n      <th>384</th>\n      <td>384</td>\n      <td>Union Station</td>\n      <td>7537</td>\n      <td>Mount Joy</td>\n      <td>23:27:00</td>\n      <td>14</td>\n      <td>23:30:00</td>\n      <td>Mimico</td>\n      <td>E7537W</td>\n      <td>Stouffville</td>\n      <td>Lakeshore West</td>\n    </tr>\n    <tr>\n      <th>385</th>\n      <td>385</td>\n      <td>Union Station</td>\n      <td>7539</td>\n      <td>Mount Joy</td>\n      <td>00:27:00</td>\n      <td>14</td>\n      <td>00:30:00</td>\n      <td>Mimico</td>\n      <td>E7539W</td>\n      <td>Stouffville</td>\n      <td>Lakeshore West</td>\n    </tr>\n  </tbody>\n</table>\n<p>386 rows × 11 columns</p>\n</div>"
     },
     "metadata": {},
     "execution_count": 210
    }
   ],
   "source": [
    "#inbound line\n",
    "occupation_table = pd.merge(occupation_table, stationlist_origins, how = 'left', on = 'Origins')\n",
    "#outbound line\n",
    "occupation_table = pd.merge(occupation_table, stationlist_destinations, how = 'left', on = 'Destinations')\n",
    "occupation_table\n"
   ]
  },
  {
   "cell_type": "code",
   "execution_count": 211,
   "metadata": {},
   "outputs": [
    {
     "output_type": "execute_result",
     "data": {
      "text/plain": [
       "     Order        Station Trains         Origins Arrival times Track  \\\n",
       "0        0  Union Station  E4201          Mimico      04:46:00   UPE   \n",
       "1        1  Union Station  E4203          Mimico      05:01:00   UPE   \n",
       "2        2  Union Station  E4001          Mimico      05:14:00   UPE   \n",
       "3        3  Union Station  E4003          Mimico      05:30:00   UPE   \n",
       "4        4  Union Station   4002      UP Airport      05:52:00   UPE   \n",
       "..     ...            ...    ...             ...           ...   ...   \n",
       "381    381  Union Station   1224       Aldershot      17:35:00    14   \n",
       "382    382  Union Station   6232          Aurora      21:33:00    14   \n",
       "383    383  Union Station  E7738  Mount Pleasant      22:32:00    14   \n",
       "384    384  Union Station   7537       Mount Joy      23:27:00    14   \n",
       "385    385  Union Station   7539       Mount Joy      00:27:00    14   \n",
       "\n",
       "    Departure times  Destinations Corresponding trains    Inbound Line  \\\n",
       "0          04:55:00    UP Airport                 4201  Lakeshore West   \n",
       "1          05:10:00    UP Airport                 4203  Lakeshore West   \n",
       "2          05:30:00    UP Airport                 4001  Lakeshore West   \n",
       "3          05:45:00    UP Airport                 4003  Lakeshore West   \n",
       "4          06:00:00    UP Airport                 4005      Up Express   \n",
       "..              ...           ...                  ...             ...   \n",
       "381        17:40:00        Oshawa                 9224  Lakeshore West   \n",
       "382        22:15:00     Mount Joy                 7436          Barrie   \n",
       "383        23:15:00  Lincolnville                 7738       Kitchener   \n",
       "384        23:30:00        Mimico               E7537W     Stouffville   \n",
       "385        00:30:00        Mimico               E7539W     Stouffville   \n",
       "\n",
       "      Outbound Line  \n",
       "0        Up Express  \n",
       "1        Up Express  \n",
       "2        Up Express  \n",
       "3        Up Express  \n",
       "4        Up Express  \n",
       "..              ...  \n",
       "381  Lakeshore East  \n",
       "382     Stouffville  \n",
       "383     Stouffville  \n",
       "384  Lakeshore West  \n",
       "385  Lakeshore West  \n",
       "\n",
       "[386 rows x 11 columns]"
      ],
      "text/html": "<div>\n<style scoped>\n    .dataframe tbody tr th:only-of-type {\n        vertical-align: middle;\n    }\n\n    .dataframe tbody tr th {\n        vertical-align: top;\n    }\n\n    .dataframe thead th {\n        text-align: right;\n    }\n</style>\n<table border=\"1\" class=\"dataframe\">\n  <thead>\n    <tr style=\"text-align: right;\">\n      <th></th>\n      <th>Order</th>\n      <th>Station</th>\n      <th>Trains</th>\n      <th>Origins</th>\n      <th>Arrival times</th>\n      <th>Track</th>\n      <th>Departure times</th>\n      <th>Destinations</th>\n      <th>Corresponding trains</th>\n      <th>Inbound Line</th>\n      <th>Outbound Line</th>\n    </tr>\n  </thead>\n  <tbody>\n    <tr>\n      <th>0</th>\n      <td>0</td>\n      <td>Union Station</td>\n      <td>E4201</td>\n      <td>Mimico</td>\n      <td>04:46:00</td>\n      <td>UPE</td>\n      <td>04:55:00</td>\n      <td>UP Airport</td>\n      <td>4201</td>\n      <td>Lakeshore West</td>\n      <td>Up Express</td>\n    </tr>\n    <tr>\n      <th>1</th>\n      <td>1</td>\n      <td>Union Station</td>\n      <td>E4203</td>\n      <td>Mimico</td>\n      <td>05:01:00</td>\n      <td>UPE</td>\n      <td>05:10:00</td>\n      <td>UP Airport</td>\n      <td>4203</td>\n      <td>Lakeshore West</td>\n      <td>Up Express</td>\n    </tr>\n    <tr>\n      <th>2</th>\n      <td>2</td>\n      <td>Union Station</td>\n      <td>E4001</td>\n      <td>Mimico</td>\n      <td>05:14:00</td>\n      <td>UPE</td>\n      <td>05:30:00</td>\n      <td>UP Airport</td>\n      <td>4001</td>\n      <td>Lakeshore West</td>\n      <td>Up Express</td>\n    </tr>\n    <tr>\n      <th>3</th>\n      <td>3</td>\n      <td>Union Station</td>\n      <td>E4003</td>\n      <td>Mimico</td>\n      <td>05:30:00</td>\n      <td>UPE</td>\n      <td>05:45:00</td>\n      <td>UP Airport</td>\n      <td>4003</td>\n      <td>Lakeshore West</td>\n      <td>Up Express</td>\n    </tr>\n    <tr>\n      <th>4</th>\n      <td>4</td>\n      <td>Union Station</td>\n      <td>4002</td>\n      <td>UP Airport</td>\n      <td>05:52:00</td>\n      <td>UPE</td>\n      <td>06:00:00</td>\n      <td>UP Airport</td>\n      <td>4005</td>\n      <td>Up Express</td>\n      <td>Up Express</td>\n    </tr>\n    <tr>\n      <th>...</th>\n      <td>...</td>\n      <td>...</td>\n      <td>...</td>\n      <td>...</td>\n      <td>...</td>\n      <td>...</td>\n      <td>...</td>\n      <td>...</td>\n      <td>...</td>\n      <td>...</td>\n      <td>...</td>\n    </tr>\n    <tr>\n      <th>381</th>\n      <td>381</td>\n      <td>Union Station</td>\n      <td>1224</td>\n      <td>Aldershot</td>\n      <td>17:35:00</td>\n      <td>14</td>\n      <td>17:40:00</td>\n      <td>Oshawa</td>\n      <td>9224</td>\n      <td>Lakeshore West</td>\n      <td>Lakeshore East</td>\n    </tr>\n    <tr>\n      <th>382</th>\n      <td>382</td>\n      <td>Union Station</td>\n      <td>6232</td>\n      <td>Aurora</td>\n      <td>21:33:00</td>\n      <td>14</td>\n      <td>22:15:00</td>\n      <td>Mount Joy</td>\n      <td>7436</td>\n      <td>Barrie</td>\n      <td>Stouffville</td>\n    </tr>\n    <tr>\n      <th>383</th>\n      <td>383</td>\n      <td>Union Station</td>\n      <td>E7738</td>\n      <td>Mount Pleasant</td>\n      <td>22:32:00</td>\n      <td>14</td>\n      <td>23:15:00</td>\n      <td>Lincolnville</td>\n      <td>7738</td>\n      <td>Kitchener</td>\n      <td>Stouffville</td>\n    </tr>\n    <tr>\n      <th>384</th>\n      <td>384</td>\n      <td>Union Station</td>\n      <td>7537</td>\n      <td>Mount Joy</td>\n      <td>23:27:00</td>\n      <td>14</td>\n      <td>23:30:00</td>\n      <td>Mimico</td>\n      <td>E7537W</td>\n      <td>Stouffville</td>\n      <td>Lakeshore West</td>\n    </tr>\n    <tr>\n      <th>385</th>\n      <td>385</td>\n      <td>Union Station</td>\n      <td>7539</td>\n      <td>Mount Joy</td>\n      <td>00:27:00</td>\n      <td>14</td>\n      <td>00:30:00</td>\n      <td>Mimico</td>\n      <td>E7539W</td>\n      <td>Stouffville</td>\n      <td>Lakeshore West</td>\n    </tr>\n  </tbody>\n</table>\n<p>386 rows × 11 columns</p>\n</div>"
     },
     "metadata": {},
     "execution_count": 211
    }
   ],
   "source": [
    "columns = occupation_table.columns.tolist()\n",
    "columns[1] = 'Station'\n",
    "columns[-2] = 'Inbound Line'\n",
    "columns[-1] = 'Outbound Line'\n",
    "occupation_table.columns = columns\n",
    "occupation_table"
   ]
  },
  {
   "cell_type": "code",
   "execution_count": 212,
   "metadata": {},
   "outputs": [
    {
     "output_type": "execute_result",
     "data": {
      "text/plain": [
       "     Order        Station Trains         Origins Arrival times Track  \\\n",
       "0        0  Union Station  E4201          Mimico      04:46:00   UPE   \n",
       "1        1  Union Station  E4203          Mimico      05:01:00   UPE   \n",
       "2        2  Union Station  E4001          Mimico      05:14:00   UPE   \n",
       "3        3  Union Station  E4003          Mimico      05:30:00   UPE   \n",
       "4        4  Union Station   4002      UP Airport      05:52:00   UPE   \n",
       "..     ...            ...    ...             ...           ...   ...   \n",
       "381    381  Union Station   1224       Aldershot      17:35:00    14   \n",
       "382    382  Union Station   6232          Aurora      21:33:00    14   \n",
       "383    383  Union Station  E7738  Mount Pleasant      22:32:00    14   \n",
       "384    384  Union Station   7537       Mount Joy      23:27:00    14   \n",
       "385    385  Union Station   7539       Mount Joy      00:27:00    14   \n",
       "\n",
       "    Departure times  Destinations Corresponding trains    Inbound Line  \\\n",
       "0          04:55:00    UP Airport                 4201  Lakeshore West   \n",
       "1          05:10:00    UP Airport                 4203  Lakeshore West   \n",
       "2          05:30:00    UP Airport                 4001  Lakeshore West   \n",
       "3          05:45:00    UP Airport                 4003  Lakeshore West   \n",
       "4          06:00:00    UP Airport                 4005      Up Express   \n",
       "..              ...           ...                  ...             ...   \n",
       "381        17:40:00        Oshawa                 9224  Lakeshore West   \n",
       "382        22:15:00     Mount Joy                 7436          Barrie   \n",
       "383        23:15:00  Lincolnville                 7738       Kitchener   \n",
       "384        23:30:00        Mimico               E7537W     Stouffville   \n",
       "385        00:30:00        Mimico               E7539W     Stouffville   \n",
       "\n",
       "      Outbound Line           Inbound Routes  \\\n",
       "0        Up Express            [LAKE_W_IN_1]   \n",
       "1        Up Express            [LAKE_W_IN_1]   \n",
       "2        Up Express            [LAKE_W_IN_1]   \n",
       "3        Up Express            [LAKE_W_IN_1]   \n",
       "4        Up Express      [UPEMILTKITCH_IN_1]   \n",
       "..              ...                      ...   \n",
       "381  Lakeshore East           [LAKE_W_IN_10]   \n",
       "382     Stouffville          [BARKITCH_IN_9]   \n",
       "383     Stouffville          [BARKITCH_IN_9]   \n",
       "384  Lakeshore West  [LAKE_E_STOUFDANF_IN_7]   \n",
       "385  Lakeshore West  [LAKE_E_STOUFDANF_IN_7]   \n",
       "\n",
       "                                       Outbound Routes  \n",
       "0                                          [UPE_OUT_2]  \n",
       "1                                          [UPE_OUT_2]  \n",
       "2                                          [UPE_OUT_2]  \n",
       "3                                          [UPE_OUT_2]  \n",
       "4                                          [UPE_OUT_2]  \n",
       "..                                                 ...  \n",
       "381  [LAKE_E_EXPSTOUFREG_OUT_11, LAKE_E_EXPSTOUFREG...  \n",
       "382  [LAKE_E_STOUFDANF_OUT_10, LAKE_E_STOUFDANF_OUT...  \n",
       "383  [LAKE_E_STOUFDANF_OUT_10, LAKE_E_STOUFDANF_OUT...  \n",
       "384                                               None  \n",
       "385                                               None  \n",
       "\n",
       "[386 rows x 13 columns]"
      ],
      "text/html": "<div>\n<style scoped>\n    .dataframe tbody tr th:only-of-type {\n        vertical-align: middle;\n    }\n\n    .dataframe tbody tr th {\n        vertical-align: top;\n    }\n\n    .dataframe thead th {\n        text-align: right;\n    }\n</style>\n<table border=\"1\" class=\"dataframe\">\n  <thead>\n    <tr style=\"text-align: right;\">\n      <th></th>\n      <th>Order</th>\n      <th>Station</th>\n      <th>Trains</th>\n      <th>Origins</th>\n      <th>Arrival times</th>\n      <th>Track</th>\n      <th>Departure times</th>\n      <th>Destinations</th>\n      <th>Corresponding trains</th>\n      <th>Inbound Line</th>\n      <th>Outbound Line</th>\n      <th>Inbound Routes</th>\n      <th>Outbound Routes</th>\n    </tr>\n  </thead>\n  <tbody>\n    <tr>\n      <th>0</th>\n      <td>0</td>\n      <td>Union Station</td>\n      <td>E4201</td>\n      <td>Mimico</td>\n      <td>04:46:00</td>\n      <td>UPE</td>\n      <td>04:55:00</td>\n      <td>UP Airport</td>\n      <td>4201</td>\n      <td>Lakeshore West</td>\n      <td>Up Express</td>\n      <td>[LAKE_W_IN_1]</td>\n      <td>[UPE_OUT_2]</td>\n    </tr>\n    <tr>\n      <th>1</th>\n      <td>1</td>\n      <td>Union Station</td>\n      <td>E4203</td>\n      <td>Mimico</td>\n      <td>05:01:00</td>\n      <td>UPE</td>\n      <td>05:10:00</td>\n      <td>UP Airport</td>\n      <td>4203</td>\n      <td>Lakeshore West</td>\n      <td>Up Express</td>\n      <td>[LAKE_W_IN_1]</td>\n      <td>[UPE_OUT_2]</td>\n    </tr>\n    <tr>\n      <th>2</th>\n      <td>2</td>\n      <td>Union Station</td>\n      <td>E4001</td>\n      <td>Mimico</td>\n      <td>05:14:00</td>\n      <td>UPE</td>\n      <td>05:30:00</td>\n      <td>UP Airport</td>\n      <td>4001</td>\n      <td>Lakeshore West</td>\n      <td>Up Express</td>\n      <td>[LAKE_W_IN_1]</td>\n      <td>[UPE_OUT_2]</td>\n    </tr>\n    <tr>\n      <th>3</th>\n      <td>3</td>\n      <td>Union Station</td>\n      <td>E4003</td>\n      <td>Mimico</td>\n      <td>05:30:00</td>\n      <td>UPE</td>\n      <td>05:45:00</td>\n      <td>UP Airport</td>\n      <td>4003</td>\n      <td>Lakeshore West</td>\n      <td>Up Express</td>\n      <td>[LAKE_W_IN_1]</td>\n      <td>[UPE_OUT_2]</td>\n    </tr>\n    <tr>\n      <th>4</th>\n      <td>4</td>\n      <td>Union Station</td>\n      <td>4002</td>\n      <td>UP Airport</td>\n      <td>05:52:00</td>\n      <td>UPE</td>\n      <td>06:00:00</td>\n      <td>UP Airport</td>\n      <td>4005</td>\n      <td>Up Express</td>\n      <td>Up Express</td>\n      <td>[UPEMILTKITCH_IN_1]</td>\n      <td>[UPE_OUT_2]</td>\n    </tr>\n    <tr>\n      <th>...</th>\n      <td>...</td>\n      <td>...</td>\n      <td>...</td>\n      <td>...</td>\n      <td>...</td>\n      <td>...</td>\n      <td>...</td>\n      <td>...</td>\n      <td>...</td>\n      <td>...</td>\n      <td>...</td>\n      <td>...</td>\n      <td>...</td>\n    </tr>\n    <tr>\n      <th>381</th>\n      <td>381</td>\n      <td>Union Station</td>\n      <td>1224</td>\n      <td>Aldershot</td>\n      <td>17:35:00</td>\n      <td>14</td>\n      <td>17:40:00</td>\n      <td>Oshawa</td>\n      <td>9224</td>\n      <td>Lakeshore West</td>\n      <td>Lakeshore East</td>\n      <td>[LAKE_W_IN_10]</td>\n      <td>[LAKE_E_EXPSTOUFREG_OUT_11, LAKE_E_EXPSTOUFREG...</td>\n    </tr>\n    <tr>\n      <th>382</th>\n      <td>382</td>\n      <td>Union Station</td>\n      <td>6232</td>\n      <td>Aurora</td>\n      <td>21:33:00</td>\n      <td>14</td>\n      <td>22:15:00</td>\n      <td>Mount Joy</td>\n      <td>7436</td>\n      <td>Barrie</td>\n      <td>Stouffville</td>\n      <td>[BARKITCH_IN_9]</td>\n      <td>[LAKE_E_STOUFDANF_OUT_10, LAKE_E_STOUFDANF_OUT...</td>\n    </tr>\n    <tr>\n      <th>383</th>\n      <td>383</td>\n      <td>Union Station</td>\n      <td>E7738</td>\n      <td>Mount Pleasant</td>\n      <td>22:32:00</td>\n      <td>14</td>\n      <td>23:15:00</td>\n      <td>Lincolnville</td>\n      <td>7738</td>\n      <td>Kitchener</td>\n      <td>Stouffville</td>\n      <td>[BARKITCH_IN_9]</td>\n      <td>[LAKE_E_STOUFDANF_OUT_10, LAKE_E_STOUFDANF_OUT...</td>\n    </tr>\n    <tr>\n      <th>384</th>\n      <td>384</td>\n      <td>Union Station</td>\n      <td>7537</td>\n      <td>Mount Joy</td>\n      <td>23:27:00</td>\n      <td>14</td>\n      <td>23:30:00</td>\n      <td>Mimico</td>\n      <td>E7537W</td>\n      <td>Stouffville</td>\n      <td>Lakeshore West</td>\n      <td>[LAKE_E_STOUFDANF_IN_7]</td>\n      <td>None</td>\n    </tr>\n    <tr>\n      <th>385</th>\n      <td>385</td>\n      <td>Union Station</td>\n      <td>7539</td>\n      <td>Mount Joy</td>\n      <td>00:27:00</td>\n      <td>14</td>\n      <td>00:30:00</td>\n      <td>Mimico</td>\n      <td>E7539W</td>\n      <td>Stouffville</td>\n      <td>Lakeshore West</td>\n      <td>[LAKE_E_STOUFDANF_IN_7]</td>\n      <td>None</td>\n    </tr>\n  </tbody>\n</table>\n<p>386 rows × 13 columns</p>\n</div>"
     },
     "metadata": {},
     "execution_count": 212
    }
   ],
   "source": [
    "occupation_table = pd.merge( occupation_table,inbound_routes,how = 'left', on=['Inbound Line','Track'])\n",
    "occupation_table = pd.merge( occupation_table,outbound_routes,how = 'left', on=['Outbound Line','Track'])\n",
    "occupation_table.fillna('None')\n",
    "\n"
   ]
  },
  {
   "cell_type": "code",
   "execution_count": 213,
   "metadata": {},
   "outputs": [],
   "source": [
    "inRoutes = occupation_table['Inbound Routes'].apply(pd.Series)\n",
    "outRoutes = occupation_table['Outbound Routes'].apply(pd.Series)\n"
   ]
  },
  {
   "cell_type": "code",
   "execution_count": 206,
   "metadata": {},
   "outputs": [
    {
     "output_type": "execute_result",
     "data": {
      "text/plain": [
       "                         0\n",
       "0              LAKE_W_IN_1\n",
       "1              LAKE_W_IN_1\n",
       "2              LAKE_W_IN_1\n",
       "3              LAKE_W_IN_1\n",
       "4        UPEMILTKITCH_IN_1\n",
       "..                     ...\n",
       "381           LAKE_W_IN_10\n",
       "382          BARKITCH_IN_9\n",
       "383          BARKITCH_IN_9\n",
       "384  LAKE_E_STOUFDANF_IN_7\n",
       "385  LAKE_E_STOUFDANF_IN_7\n",
       "\n",
       "[386 rows x 1 columns]"
      ],
      "text/html": "<div>\n<style scoped>\n    .dataframe tbody tr th:only-of-type {\n        vertical-align: middle;\n    }\n\n    .dataframe tbody tr th {\n        vertical-align: top;\n    }\n\n    .dataframe thead th {\n        text-align: right;\n    }\n</style>\n<table border=\"1\" class=\"dataframe\">\n  <thead>\n    <tr style=\"text-align: right;\">\n      <th></th>\n      <th>0</th>\n    </tr>\n  </thead>\n  <tbody>\n    <tr>\n      <th>0</th>\n      <td>LAKE_W_IN_1</td>\n    </tr>\n    <tr>\n      <th>1</th>\n      <td>LAKE_W_IN_1</td>\n    </tr>\n    <tr>\n      <th>2</th>\n      <td>LAKE_W_IN_1</td>\n    </tr>\n    <tr>\n      <th>3</th>\n      <td>LAKE_W_IN_1</td>\n    </tr>\n    <tr>\n      <th>4</th>\n      <td>UPEMILTKITCH_IN_1</td>\n    </tr>\n    <tr>\n      <th>...</th>\n      <td>...</td>\n    </tr>\n    <tr>\n      <th>381</th>\n      <td>LAKE_W_IN_10</td>\n    </tr>\n    <tr>\n      <th>382</th>\n      <td>BARKITCH_IN_9</td>\n    </tr>\n    <tr>\n      <th>383</th>\n      <td>BARKITCH_IN_9</td>\n    </tr>\n    <tr>\n      <th>384</th>\n      <td>LAKE_E_STOUFDANF_IN_7</td>\n    </tr>\n    <tr>\n      <th>385</th>\n      <td>LAKE_E_STOUFDANF_IN_7</td>\n    </tr>\n  </tbody>\n</table>\n<p>386 rows × 1 columns</p>\n</div>"
     },
     "metadata": {},
     "execution_count": 206
    }
   ],
   "source": [
    "inRoutes"
   ]
  },
  {
   "cell_type": "code",
   "execution_count": 214,
   "metadata": {},
   "outputs": [],
   "source": [
    "occupation_table = occupation_table.drop(columns = ['Inbound Routes','Outbound Routes'], axis = 1)"
   ]
  },
  {
   "cell_type": "code",
   "execution_count": 215,
   "metadata": {},
   "outputs": [],
   "source": [
    "\n",
    "occupation_table_out = pd.merge(occupation_table , outRoutes, left_index=True, right_index=True)\n",
    "occupation_table_out = occupation_table_out.melt(id_vars = occupation_table.columns, value_name='Outbound Route').drop(columns='variable',axis=1).drop_duplicates().sort_values(by='Order')"
   ]
  },
  {
   "cell_type": "code",
   "execution_count": 216,
   "metadata": {},
   "outputs": [],
   "source": [
    "occupation_table_in = pd.merge(occupation_table , inRoutes, left_index=True, right_index=True)\n",
    "occupation_table_in = occupation_table_in.melt(id_vars = occupation_table.columns, value_name='Inbound Route').drop(columns='variable',axis=1).drop_duplicates().sort_values(by='Order')"
   ]
  },
  {
   "cell_type": "code",
   "execution_count": 197,
   "metadata": {},
   "outputs": [],
   "source": [
    "#occupation_table_in.to_csv(r'C:\\Users\\LUCME\\Desktop\\File Transfer\\Desktop\\Folders - Desktop\\Track and Timetable Data from Treno for RER\\Output\\union_station_track_occupation_inbound_routes_V2.csv', sep='\\t',                                    encoding='UTF-16', index = False)\n",
    "#occupation_table_out.to_csv(r'C:\\Users\\LUCME\\Desktop\\File Transfer\\Desktop\\Folders - Desktop\\Track and Timetable Data from Treno for RER\\Output\\union_station_track_occupation_outbound_routes_V2.csv', sep='\\t',                                  encoding='UTF-16', index = False)\n"
   ]
  },
  {
   "cell_type": "code",
   "execution_count": 263,
   "metadata": {
    "tags": []
   },
   "outputs": [],
   "source": [
    "\n",
    "occupation_table_out_df_list = []\n",
    "for order, group in occupation_table_out.groupby(by='Order'):\n",
    "    if group.shape[0] > 1:\n",
    "        group.dropna(subset=['Outbound Route'], inplace=True)\n",
    "        occupation_table_out_df_list.append(group)\n",
    "    else:\n",
    "        occupation_table_out_df_list.append(group)\n",
    "\n",
    "occupation_table_in_df_list = []\n",
    "for order, group in occupation_table_in.groupby(by='Order'):\n",
    "    if group.shape[0] > 1:\n",
    "        group.dropna(subset=['inbound Route'], inplace=True)\n",
    "        occupation_table_in_df_list.append(group)\n",
    "    else:\n",
    "        occupation_table_in_df_list.append(group)\n",
    "        \n",
    "\n",
    "\n",
    "\n",
    "\n",
    "        \n",
    "pd.concat(occupation_table_in_df_list).sort_values(by = 'Order').to_csv(r'C:\\Users\\LUCME\\Desktop\\File Transfer\\Desktop\\Folders - Desktop\\Track and Timetable Data from Treno for RER\\Output\\union_station_track_occupation_inbound_routes_V3.csv', sep='\\t',encoding='UTF-16', index = False)\n",
    "\n",
    "pd.concat(occupation_table_out_df_list).sort_values(by = 'Order').to_csv(r'C:\\Users\\LUCME\\Desktop\\File Transfer\\Desktop\\Folders - Desktop\\Track and Timetable Data from Treno for RER\\Output\\union_station_track_occupation_outbound_routes_V3.csv', sep='\\t',encoding='UTF-16', index = False)"
   ]
  },
  {
   "cell_type": "code",
   "execution_count": null,
   "metadata": {},
   "outputs": [],
   "source": []
  }
 ]
}